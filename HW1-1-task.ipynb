{
 "cells": [
  {
   "cell_type": "code",
   "execution_count": 42,
   "metadata": {
    "collapsed": true
   },
   "outputs": [],
   "source": [
    "import numpy as np\n",
    "import matplotlib.pyplot as plt\n",
    "import sys \n",
    "# needed to let jupyter find the module...\n",
    "sys.path.append('/Users/toastcheng/Desktop/MLDS/lib/python3.6/site-packages/')"
   ]
  },
  {
   "cell_type": "code",
   "execution_count": 43,
   "metadata": {
    "collapsed": false
   },
   "outputs": [],
   "source": [
    "import torch\n",
    "import torch.nn as nn\n",
    "import torch.nn.functional as F\n",
    "import torch.optim as optim\n",
    "from torch.autograd import Variable\n",
    "import torch.utils.data as data\n",
    "import torchvision\n",
    "%matplotlib inline"
   ]
  },
  {
   "cell_type": "code",
   "execution_count": 62,
   "metadata": {
    "collapsed": false
   },
   "outputs": [],
   "source": [
    "BATCH_SIZE = 256\n",
    "LR = 5e-4\n",
    "EPOCH = 50\n",
    "np.random.seed(1)\n",
    "torch.manual_seed(1)\n",
    "CUDA= torch.cuda.is_available()"
   ]
  },
  {
   "cell_type": "markdown",
   "metadata": {},
   "source": [
    "## Load Data"
   ]
  },
  {
   "cell_type": "code",
   "execution_count": 63,
   "metadata": {
    "collapsed": false
   },
   "outputs": [],
   "source": [
    "train_data = torchvision.datasets.MNIST(root=\"./data/mnist/\",\n",
    "                                       train=True,\n",
    "                                       transform=torchvision.transforms.ToTensor(),\n",
    "                                       download=True)\n",
    "test_data = torchvision.datasets.MNIST(root=\"./data/mnist/\",\n",
    "                                      train=False)\n",
    "train_loader = data.DataLoader(dataset=train_data, batch_size=BATCH_SIZE, shuffle=True)"
   ]
  },
  {
   "cell_type": "markdown",
   "metadata": {},
   "source": [
    "## Define Model Structure"
   ]
  },
  {
   "cell_type": "code",
   "execution_count": 64,
   "metadata": {
    "collapsed": true
   },
   "outputs": [],
   "source": [
    "class CNN_shallow(nn.Module):\n",
    "    def __init__(self):\n",
    "        super(CNN_shallow, self).__init__()\n",
    "        self.conv1 = nn.Sequential(\n",
    "            nn.Conv2d(1, 66, 7, 1, 3),\n",
    "            nn.ReLU(),\n",
    "            nn.MaxPool2d(2)\n",
    "        ) # m * 19 * 14 * 14\n",
    "        self.fc1 = nn.Linear(66 * 14 * 14, 10)\n",
    "        \n",
    "    def forward(self, x):\n",
    "        x = self.conv1(x)\n",
    "        x = x.view(x.size(0), -1)\n",
    "        x = self.fc1(x)\n",
    "        return x\n",
    "\n",
    "\n",
    "class CNN_deep(nn.Module):\n",
    "    def __init__(self):\n",
    "        super(CNN_deep, self).__init__()\n",
    "        self.conv1 = nn.Sequential(\n",
    "            nn.Conv2d(1, 32, 5, 1, 2),\n",
    "            nn.ReLU(),\n",
    "            nn.MaxPool2d(2),\n",
    "         # m * 8 * 14 * 14\n",
    "            nn.Conv2d(32, 48, 5, 1, 2),\n",
    "            nn.ReLU(),\n",
    "            nn.MaxPool2d(2),\n",
    "         # m * 16 * 7 * 7\n",
    "            nn.Conv2d(48, 72, 5, 2, 1),\n",
    "            nn.ReLU(),\n",
    "        ) # m * 39 * 3 * 3\n",
    "        self.fc1 = nn.Linear(72 * 3 * 3, 10)\n",
    "        \n",
    "    def forward(self, x):\n",
    "        x = self.conv1(x)\n",
    "        x = x.view(x.size(0), -1)\n",
    "        x = self.fc1(x)\n",
    "        return x\n",
    "\n",
    "\n",
    "class CNN_deeper(nn.Module):\n",
    "    def __init__(self):\n",
    "        super(CNN_deeper, self).__init__()\n",
    "        self.conv1 = nn.Sequential(\n",
    "            nn.Conv2d(1, 20, 5, 1, 2),\n",
    "            nn.ReLU(),\n",
    "            nn.MaxPool2d(2),\n",
    "            # m * 5 * 14 * 14\n",
    "            nn.Conv2d(20, 36, 5, 1, 2),\n",
    "            nn.ReLU(),\n",
    "            nn.MaxPool2d(2),\n",
    "            # m * 10 * 7 * 7\n",
    "            nn.Conv2d(36, 62, 5, 1, 1),\n",
    "            nn.ReLU(),\n",
    "            # m * 15 * 5 * 5\n",
    "            nn.Conv2d(62, 74, 3, 1, 0),\n",
    "            nn.ReLU(),\n",
    "            # m * 18 * 3 * 3\n",
    "            nn.Conv2d(74, 102, 1, 1, 0),\n",
    "            nn.ReLU(),\n",
    "            # m * 22 * 3 * 3\n",
    "\n",
    "        )\n",
    "        self.fc1 = nn.Linear(102 * 3 * 3, 10)\n",
    "        \n",
    "    def forward(self, x):\n",
    "        x = self.conv1(x)\n",
    "        x = x.view(x.size(0), -1)\n",
    "        x = self.fc1(x)\n",
    "        return x"
   ]
  },
  {
   "cell_type": "markdown",
   "metadata": {},
   "source": [
    "## Set Optimizer and loss"
   ]
  },
  {
   "cell_type": "code",
   "execution_count": 65,
   "metadata": {
    "collapsed": false
   },
   "outputs": [
    {
     "name": "stdout",
     "output_type": "stream",
     "text": [
      "CNN_shallow(\n",
      "  (conv1): Sequential(\n",
      "    (0): Conv2d(1, 66, kernel_size=(7, 7), stride=(1, 1), padding=(3, 3))\n",
      "    (1): ReLU()\n",
      "    (2): MaxPool2d(kernel_size=(2, 2), stride=(2, 2), dilation=(1, 1), ceil_mode=False)\n",
      "  )\n",
      "  (fc1): Linear(in_features=12936, out_features=10, bias=True)\n",
      ")\n",
      "CNN_deep(\n",
      "  (conv1): Sequential(\n",
      "    (0): Conv2d(1, 32, kernel_size=(5, 5), stride=(1, 1), padding=(2, 2))\n",
      "    (1): ReLU()\n",
      "    (2): MaxPool2d(kernel_size=(2, 2), stride=(2, 2), dilation=(1, 1), ceil_mode=False)\n",
      "    (3): Conv2d(32, 48, kernel_size=(5, 5), stride=(1, 1), padding=(2, 2))\n",
      "    (4): ReLU()\n",
      "    (5): MaxPool2d(kernel_size=(2, 2), stride=(2, 2), dilation=(1, 1), ceil_mode=False)\n",
      "    (6): Conv2d(48, 72, kernel_size=(5, 5), stride=(2, 2), padding=(1, 1))\n",
      "    (7): ReLU()\n",
      "  )\n",
      "  (fc1): Linear(in_features=648, out_features=10, bias=True)\n",
      ")\n",
      "CNN_deeper(\n",
      "  (conv1): Sequential(\n",
      "    (0): Conv2d(1, 20, kernel_size=(5, 5), stride=(1, 1), padding=(2, 2))\n",
      "    (1): ReLU()\n",
      "    (2): MaxPool2d(kernel_size=(2, 2), stride=(2, 2), dilation=(1, 1), ceil_mode=False)\n",
      "    (3): Conv2d(20, 36, kernel_size=(5, 5), stride=(1, 1), padding=(2, 2))\n",
      "    (4): ReLU()\n",
      "    (5): MaxPool2d(kernel_size=(2, 2), stride=(2, 2), dilation=(1, 1), ceil_mode=False)\n",
      "    (6): Conv2d(36, 62, kernel_size=(5, 5), stride=(1, 1), padding=(1, 1))\n",
      "    (7): ReLU()\n",
      "    (8): Conv2d(62, 74, kernel_size=(3, 3), stride=(1, 1))\n",
      "    (9): ReLU()\n",
      "    (10): Conv2d(74, 102, kernel_size=(1, 1), stride=(1, 1))\n",
      "    (11): ReLU()\n",
      "  )\n",
      "  (fc1): Linear(in_features=918, out_features=10, bias=True)\n",
      ")\n"
     ]
    }
   ],
   "source": [
    "shallow = CNN_shallow()\n",
    "deep = CNN_deep()\n",
    "deeper = CNN_deeper()\n",
    "if CUDA:\n",
    "    shallow= shallow.cuda()\n",
    "    deep= deep.cuda()\n",
    "    deeper= deeper.cuda()\n",
    "optim_shallow = optim.Adam(params=shallow.parameters(),lr=LR)\n",
    "optim_deep = optim.Adam(params=deep.parameters(),lr=LR)\n",
    "optim_deeper = optim.Adam(params=deeper.parameters(),lr=LR)\n",
    "loss_func = nn.CrossEntropyLoss()\n",
    "print(shallow)\n",
    "print(deep)\n",
    "print(deeper)"
   ]
  },
  {
   "cell_type": "markdown",
   "metadata": {},
   "source": [
    "## Count the parameters in each model"
   ]
  },
  {
   "cell_type": "code",
   "execution_count": 66,
   "metadata": {
    "collapsed": false
   },
   "outputs": [
    {
     "name": "stdout",
     "output_type": "stream",
     "text": [
      "parameters in shallow model:\n",
      "132670\n",
      "parameters in deep model:\n",
      "132242\n",
      "parameters in deeper model:\n",
      "132624\n"
     ]
    }
   ],
   "source": [
    "def count_parameters(model):\n",
    "    return sum(p.numel() for p in model.parameters() if p.requires_grad)\n",
    "\n",
    "count_shallow = count_parameters(shallow)\n",
    "count_deep = count_parameters(deep)\n",
    "count_deeper = count_parameters(deeper)\n",
    "\n",
    "print(\"parameters in shallow model:\")\n",
    "print(count_shallow)\n",
    "print(\"parameters in deep model:\")\n",
    "print(count_deep)\n",
    "print(\"parameters in deeper model:\")\n",
    "print(count_deeper)"
   ]
  },
  {
   "cell_type": "markdown",
   "metadata": {},
   "source": [
    "## Train"
   ]
  },
  {
   "cell_type": "code",
   "execution_count": 67,
   "metadata": {
    "collapsed": false
   },
   "outputs": [
    {
     "name": "stdout",
     "output_type": "stream",
     "text": [
      "start\n",
      "epoch:  0 | batch:    0 | shallow acc: 0.1484 | deep acc: 0.0664 | deeper acc: 0.0508\n",
      "epoch:  0 | batch:  100 | shallow acc: 0.9648 | deep acc: 0.9531 | deeper acc: 0.9492\n",
      "epoch:  0 | batch:  200 | shallow acc: 0.9375 | deep acc: 0.9375 | deeper acc: 0.9180\n",
      "epoch:  1 | batch:    0 | shallow acc: 0.9258 | deep acc: 0.9492 | deeper acc: 0.9297\n",
      "epoch:  1 | batch:  100 | shallow acc: 0.9609 | deep acc: 0.9531 | deeper acc: 0.9453\n",
      "epoch:  1 | batch:  200 | shallow acc: 0.9727 | deep acc: 0.9688 | deeper acc: 0.9688\n",
      "epoch:  2 | batch:    0 | shallow acc: 0.9648 | deep acc: 0.9766 | deeper acc: 0.9570\n",
      "epoch:  2 | batch:  100 | shallow acc: 0.9844 | deep acc: 0.9883 | deeper acc: 0.9883\n",
      "epoch:  2 | batch:  200 | shallow acc: 0.9805 | deep acc: 0.9883 | deeper acc: 0.9844\n",
      "epoch:  3 | batch:    0 | shallow acc: 0.9961 | deep acc: 0.9961 | deeper acc: 0.9883\n",
      "epoch:  3 | batch:  100 | shallow acc: 0.9844 | deep acc: 0.9883 | deeper acc: 0.9883\n",
      "epoch:  3 | batch:  200 | shallow acc: 0.9688 | deep acc: 0.9805 | deeper acc: 0.9766\n",
      "epoch:  4 | batch:    0 | shallow acc: 0.9805 | deep acc: 0.9883 | deeper acc: 0.9805\n",
      "epoch:  4 | batch:  100 | shallow acc: 0.9922 | deep acc: 0.9961 | deeper acc: 0.9922\n",
      "epoch:  4 | batch:  200 | shallow acc: 0.9805 | deep acc: 0.9883 | deeper acc: 0.9766\n",
      "epoch:  5 | batch:    0 | shallow acc: 0.9961 | deep acc: 0.9922 | deeper acc: 0.9844\n",
      "epoch:  5 | batch:  100 | shallow acc: 0.9922 | deep acc: 0.9961 | deeper acc: 0.9961\n",
      "epoch:  5 | batch:  200 | shallow acc: 0.9961 | deep acc: 0.9961 | deeper acc: 0.9922\n",
      "epoch:  6 | batch:    0 | shallow acc: 0.9727 | deep acc: 0.9883 | deeper acc: 0.9805\n",
      "epoch:  6 | batch:  100 | shallow acc: 0.9961 | deep acc: 0.9961 | deeper acc: 0.9883\n",
      "epoch:  6 | batch:  200 | shallow acc: 0.9922 | deep acc: 0.9844 | deeper acc: 0.9805\n",
      "epoch:  7 | batch:    0 | shallow acc: 0.9922 | deep acc: 0.9961 | deeper acc: 0.9922\n",
      "epoch:  7 | batch:  100 | shallow acc: 0.9922 | deep acc: 0.9961 | deeper acc: 0.9844\n",
      "epoch:  7 | batch:  200 | shallow acc: 0.9961 | deep acc: 0.9922 | deeper acc: 0.9883\n",
      "epoch:  8 | batch:    0 | shallow acc: 0.9883 | deep acc: 0.9922 | deeper acc: 0.9805\n",
      "epoch:  8 | batch:  100 | shallow acc: 0.9805 | deep acc: 0.9883 | deeper acc: 0.9766\n",
      "epoch:  8 | batch:  200 | shallow acc: 1.0000 | deep acc: 0.9883 | deeper acc: 0.9883\n",
      "epoch:  9 | batch:    0 | shallow acc: 0.9961 | deep acc: 0.9961 | deeper acc: 0.9922\n",
      "epoch:  9 | batch:  100 | shallow acc: 0.9961 | deep acc: 1.0000 | deeper acc: 0.9961\n",
      "epoch:  9 | batch:  200 | shallow acc: 0.9961 | deep acc: 0.9961 | deeper acc: 0.9961\n",
      "epoch: 10 | batch:    0 | shallow acc: 0.9844 | deep acc: 0.9922 | deeper acc: 0.9883\n",
      "epoch: 10 | batch:  100 | shallow acc: 0.9922 | deep acc: 0.9883 | deeper acc: 0.9844\n",
      "epoch: 10 | batch:  200 | shallow acc: 0.9922 | deep acc: 0.9961 | deeper acc: 1.0000\n",
      "epoch: 11 | batch:    0 | shallow acc: 0.9922 | deep acc: 0.9961 | deeper acc: 0.9883\n",
      "epoch: 11 | batch:  100 | shallow acc: 0.9961 | deep acc: 1.0000 | deeper acc: 1.0000\n",
      "epoch: 11 | batch:  200 | shallow acc: 0.9961 | deep acc: 0.9883 | deeper acc: 0.9844\n",
      "epoch: 12 | batch:    0 | shallow acc: 0.9961 | deep acc: 0.9961 | deeper acc: 0.9961\n",
      "epoch: 12 | batch:  100 | shallow acc: 0.9961 | deep acc: 0.9961 | deeper acc: 0.9961\n",
      "epoch: 12 | batch:  200 | shallow acc: 0.9922 | deep acc: 0.9922 | deeper acc: 0.9883\n",
      "epoch: 13 | batch:    0 | shallow acc: 1.0000 | deep acc: 1.0000 | deeper acc: 0.9961\n",
      "epoch: 13 | batch:  100 | shallow acc: 0.9922 | deep acc: 0.9922 | deeper acc: 0.9844\n",
      "epoch: 13 | batch:  200 | shallow acc: 0.9961 | deep acc: 0.9961 | deeper acc: 0.9922\n",
      "epoch: 14 | batch:    0 | shallow acc: 0.9961 | deep acc: 0.9961 | deeper acc: 0.9922\n",
      "epoch: 14 | batch:  100 | shallow acc: 0.9961 | deep acc: 1.0000 | deeper acc: 0.9922\n",
      "epoch: 14 | batch:  200 | shallow acc: 0.9922 | deep acc: 0.9961 | deeper acc: 0.9922\n",
      "epoch: 15 | batch:    0 | shallow acc: 0.9961 | deep acc: 1.0000 | deeper acc: 0.9883\n",
      "epoch: 15 | batch:  100 | shallow acc: 1.0000 | deep acc: 1.0000 | deeper acc: 1.0000\n",
      "epoch: 15 | batch:  200 | shallow acc: 0.9961 | deep acc: 1.0000 | deeper acc: 0.9922\n",
      "epoch: 16 | batch:    0 | shallow acc: 0.9961 | deep acc: 1.0000 | deeper acc: 0.9961\n",
      "epoch: 16 | batch:  100 | shallow acc: 1.0000 | deep acc: 1.0000 | deeper acc: 0.9961\n",
      "epoch: 16 | batch:  200 | shallow acc: 1.0000 | deep acc: 1.0000 | deeper acc: 1.0000\n",
      "epoch: 17 | batch:    0 | shallow acc: 1.0000 | deep acc: 0.9961 | deeper acc: 1.0000\n",
      "epoch: 17 | batch:  100 | shallow acc: 1.0000 | deep acc: 1.0000 | deeper acc: 0.9961\n",
      "epoch: 17 | batch:  200 | shallow acc: 0.9961 | deep acc: 0.9961 | deeper acc: 0.9961\n",
      "epoch: 18 | batch:    0 | shallow acc: 1.0000 | deep acc: 0.9961 | deeper acc: 0.9922\n",
      "epoch: 18 | batch:  100 | shallow acc: 0.9961 | deep acc: 1.0000 | deeper acc: 1.0000\n",
      "epoch: 18 | batch:  200 | shallow acc: 1.0000 | deep acc: 1.0000 | deeper acc: 1.0000\n",
      "epoch: 19 | batch:    0 | shallow acc: 1.0000 | deep acc: 1.0000 | deeper acc: 0.9961\n",
      "epoch: 19 | batch:  100 | shallow acc: 0.9961 | deep acc: 0.9961 | deeper acc: 0.9961\n",
      "epoch: 19 | batch:  200 | shallow acc: 1.0000 | deep acc: 1.0000 | deeper acc: 1.0000\n",
      "epoch: 20 | batch:    0 | shallow acc: 1.0000 | deep acc: 0.9961 | deeper acc: 1.0000\n",
      "epoch: 20 | batch:  100 | shallow acc: 1.0000 | deep acc: 1.0000 | deeper acc: 1.0000\n",
      "epoch: 20 | batch:  200 | shallow acc: 1.0000 | deep acc: 1.0000 | deeper acc: 0.9961\n",
      "epoch: 21 | batch:    0 | shallow acc: 1.0000 | deep acc: 1.0000 | deeper acc: 0.9922\n",
      "epoch: 21 | batch:  100 | shallow acc: 1.0000 | deep acc: 1.0000 | deeper acc: 1.0000\n",
      "epoch: 21 | batch:  200 | shallow acc: 0.9922 | deep acc: 0.9961 | deeper acc: 0.9922\n",
      "epoch: 22 | batch:    0 | shallow acc: 0.9922 | deep acc: 1.0000 | deeper acc: 1.0000\n",
      "epoch: 22 | batch:  100 | shallow acc: 1.0000 | deep acc: 1.0000 | deeper acc: 0.9961\n",
      "epoch: 22 | batch:  200 | shallow acc: 1.0000 | deep acc: 1.0000 | deeper acc: 1.0000\n",
      "epoch: 23 | batch:    0 | shallow acc: 1.0000 | deep acc: 1.0000 | deeper acc: 0.9961\n",
      "epoch: 23 | batch:  100 | shallow acc: 1.0000 | deep acc: 1.0000 | deeper acc: 0.9922\n",
      "epoch: 23 | batch:  200 | shallow acc: 0.9961 | deep acc: 1.0000 | deeper acc: 0.9922\n",
      "epoch: 24 | batch:    0 | shallow acc: 1.0000 | deep acc: 1.0000 | deeper acc: 1.0000\n",
      "epoch: 24 | batch:  100 | shallow acc: 1.0000 | deep acc: 1.0000 | deeper acc: 1.0000\n",
      "epoch: 24 | batch:  200 | shallow acc: 1.0000 | deep acc: 1.0000 | deeper acc: 0.9961\n",
      "epoch: 25 | batch:    0 | shallow acc: 0.9961 | deep acc: 1.0000 | deeper acc: 1.0000\n",
      "epoch: 25 | batch:  100 | shallow acc: 0.9961 | deep acc: 0.9961 | deeper acc: 0.9922\n",
      "epoch: 25 | batch:  200 | shallow acc: 1.0000 | deep acc: 1.0000 | deeper acc: 1.0000\n",
      "epoch: 26 | batch:    0 | shallow acc: 1.0000 | deep acc: 1.0000 | deeper acc: 1.0000\n",
      "epoch: 26 | batch:  100 | shallow acc: 1.0000 | deep acc: 1.0000 | deeper acc: 1.0000\n",
      "epoch: 26 | batch:  200 | shallow acc: 0.9961 | deep acc: 1.0000 | deeper acc: 1.0000\n",
      "epoch: 27 | batch:    0 | shallow acc: 1.0000 | deep acc: 1.0000 | deeper acc: 1.0000\n",
      "epoch: 27 | batch:  100 | shallow acc: 0.9961 | deep acc: 0.9961 | deeper acc: 0.9922\n",
      "epoch: 27 | batch:  200 | shallow acc: 1.0000 | deep acc: 1.0000 | deeper acc: 0.9922\n",
      "epoch: 28 | batch:    0 | shallow acc: 1.0000 | deep acc: 0.9961 | deeper acc: 1.0000\n",
      "epoch: 28 | batch:  100 | shallow acc: 1.0000 | deep acc: 1.0000 | deeper acc: 1.0000\n",
      "epoch: 28 | batch:  200 | shallow acc: 1.0000 | deep acc: 1.0000 | deeper acc: 1.0000\n",
      "epoch: 29 | batch:    0 | shallow acc: 1.0000 | deep acc: 1.0000 | deeper acc: 0.9961\n",
      "epoch: 29 | batch:  100 | shallow acc: 0.9961 | deep acc: 0.9961 | deeper acc: 0.9883\n",
      "epoch: 29 | batch:  200 | shallow acc: 1.0000 | deep acc: 1.0000 | deeper acc: 1.0000\n",
      "epoch: 30 | batch:    0 | shallow acc: 0.9961 | deep acc: 1.0000 | deeper acc: 1.0000\n",
      "epoch: 30 | batch:  100 | shallow acc: 1.0000 | deep acc: 0.9961 | deeper acc: 1.0000\n",
      "epoch: 30 | batch:  200 | shallow acc: 0.9961 | deep acc: 1.0000 | deeper acc: 1.0000\n",
      "epoch: 31 | batch:    0 | shallow acc: 1.0000 | deep acc: 1.0000 | deeper acc: 1.0000\n",
      "epoch: 31 | batch:  100 | shallow acc: 1.0000 | deep acc: 1.0000 | deeper acc: 1.0000\n",
      "epoch: 31 | batch:  200 | shallow acc: 1.0000 | deep acc: 0.9961 | deeper acc: 1.0000\n",
      "epoch: 32 | batch:    0 | shallow acc: 1.0000 | deep acc: 1.0000 | deeper acc: 1.0000\n",
      "epoch: 32 | batch:  100 | shallow acc: 1.0000 | deep acc: 1.0000 | deeper acc: 0.9961\n",
      "epoch: 32 | batch:  200 | shallow acc: 0.9961 | deep acc: 0.9961 | deeper acc: 0.9961\n",
      "epoch: 33 | batch:    0 | shallow acc: 1.0000 | deep acc: 1.0000 | deeper acc: 0.9961\n",
      "epoch: 33 | batch:  100 | shallow acc: 1.0000 | deep acc: 1.0000 | deeper acc: 1.0000\n",
      "epoch: 33 | batch:  200 | shallow acc: 1.0000 | deep acc: 1.0000 | deeper acc: 1.0000\n",
      "epoch: 34 | batch:    0 | shallow acc: 1.0000 | deep acc: 1.0000 | deeper acc: 0.9961\n",
      "epoch: 34 | batch:  100 | shallow acc: 1.0000 | deep acc: 1.0000 | deeper acc: 1.0000\n",
      "epoch: 34 | batch:  200 | shallow acc: 1.0000 | deep acc: 1.0000 | deeper acc: 1.0000\n",
      "epoch: 35 | batch:    0 | shallow acc: 1.0000 | deep acc: 1.0000 | deeper acc: 1.0000\n",
      "epoch: 35 | batch:  100 | shallow acc: 1.0000 | deep acc: 1.0000 | deeper acc: 1.0000\n",
      "epoch: 35 | batch:  200 | shallow acc: 1.0000 | deep acc: 1.0000 | deeper acc: 1.0000\n",
      "epoch: 36 | batch:    0 | shallow acc: 1.0000 | deep acc: 1.0000 | deeper acc: 1.0000\n",
      "epoch: 36 | batch:  100 | shallow acc: 1.0000 | deep acc: 1.0000 | deeper acc: 1.0000\n",
      "epoch: 36 | batch:  200 | shallow acc: 1.0000 | deep acc: 1.0000 | deeper acc: 1.0000\n",
      "epoch: 37 | batch:    0 | shallow acc: 1.0000 | deep acc: 1.0000 | deeper acc: 1.0000\n",
      "epoch: 37 | batch:  100 | shallow acc: 1.0000 | deep acc: 1.0000 | deeper acc: 1.0000\n",
      "epoch: 37 | batch:  200 | shallow acc: 1.0000 | deep acc: 1.0000 | deeper acc: 1.0000\n",
      "epoch: 38 | batch:    0 | shallow acc: 0.9961 | deep acc: 1.0000 | deeper acc: 1.0000\n",
      "epoch: 38 | batch:  100 | shallow acc: 1.0000 | deep acc: 1.0000 | deeper acc: 0.9961\n",
      "epoch: 38 | batch:  200 | shallow acc: 1.0000 | deep acc: 1.0000 | deeper acc: 1.0000\n",
      "epoch: 39 | batch:    0 | shallow acc: 1.0000 | deep acc: 1.0000 | deeper acc: 1.0000\n",
      "epoch: 39 | batch:  100 | shallow acc: 1.0000 | deep acc: 1.0000 | deeper acc: 1.0000\n",
      "epoch: 39 | batch:  200 | shallow acc: 1.0000 | deep acc: 1.0000 | deeper acc: 1.0000\n",
      "epoch: 40 | batch:    0 | shallow acc: 1.0000 | deep acc: 1.0000 | deeper acc: 0.9961\n",
      "epoch: 40 | batch:  100 | shallow acc: 1.0000 | deep acc: 0.9961 | deeper acc: 1.0000\n",
      "epoch: 40 | batch:  200 | shallow acc: 1.0000 | deep acc: 1.0000 | deeper acc: 1.0000\n",
      "epoch: 41 | batch:    0 | shallow acc: 1.0000 | deep acc: 1.0000 | deeper acc: 1.0000\n",
      "epoch: 41 | batch:  100 | shallow acc: 1.0000 | deep acc: 1.0000 | deeper acc: 1.0000\n",
      "epoch: 41 | batch:  200 | shallow acc: 1.0000 | deep acc: 1.0000 | deeper acc: 1.0000\n",
      "epoch: 42 | batch:    0 | shallow acc: 1.0000 | deep acc: 0.9883 | deeper acc: 1.0000\n",
      "epoch: 42 | batch:  100 | shallow acc: 1.0000 | deep acc: 0.9961 | deeper acc: 1.0000\n",
      "epoch: 42 | batch:  200 | shallow acc: 1.0000 | deep acc: 0.9961 | deeper acc: 0.9961\n",
      "epoch: 43 | batch:    0 | shallow acc: 1.0000 | deep acc: 0.9922 | deeper acc: 0.9961\n",
      "epoch: 43 | batch:  100 | shallow acc: 1.0000 | deep acc: 1.0000 | deeper acc: 1.0000\n",
      "epoch: 43 | batch:  200 | shallow acc: 1.0000 | deep acc: 1.0000 | deeper acc: 1.0000\n",
      "epoch: 44 | batch:    0 | shallow acc: 1.0000 | deep acc: 1.0000 | deeper acc: 1.0000\n",
      "epoch: 44 | batch:  100 | shallow acc: 1.0000 | deep acc: 1.0000 | deeper acc: 1.0000\n",
      "epoch: 44 | batch:  200 | shallow acc: 1.0000 | deep acc: 1.0000 | deeper acc: 1.0000\n",
      "epoch: 45 | batch:    0 | shallow acc: 1.0000 | deep acc: 1.0000 | deeper acc: 1.0000\n",
      "epoch: 45 | batch:  100 | shallow acc: 0.9961 | deep acc: 1.0000 | deeper acc: 0.9961\n",
      "epoch: 45 | batch:  200 | shallow acc: 1.0000 | deep acc: 1.0000 | deeper acc: 1.0000\n",
      "epoch: 46 | batch:    0 | shallow acc: 1.0000 | deep acc: 1.0000 | deeper acc: 1.0000\n",
      "epoch: 46 | batch:  100 | shallow acc: 1.0000 | deep acc: 0.9961 | deeper acc: 0.9922\n",
      "epoch: 46 | batch:  200 | shallow acc: 0.9961 | deep acc: 1.0000 | deeper acc: 0.9961\n",
      "epoch: 47 | batch:    0 | shallow acc: 1.0000 | deep acc: 1.0000 | deeper acc: 0.9961\n",
      "epoch: 47 | batch:  100 | shallow acc: 1.0000 | deep acc: 1.0000 | deeper acc: 1.0000\n",
      "epoch: 47 | batch:  200 | shallow acc: 1.0000 | deep acc: 1.0000 | deeper acc: 1.0000\n",
      "epoch: 48 | batch:    0 | shallow acc: 1.0000 | deep acc: 1.0000 | deeper acc: 1.0000\n",
      "epoch: 48 | batch:  100 | shallow acc: 1.0000 | deep acc: 1.0000 | deeper acc: 1.0000\n",
      "epoch: 48 | batch:  200 | shallow acc: 1.0000 | deep acc: 1.0000 | deeper acc: 1.0000\n",
      "epoch: 49 | batch:    0 | shallow acc: 1.0000 | deep acc: 1.0000 | deeper acc: 0.9961\n",
      "epoch: 49 | batch:  100 | shallow acc: 1.0000 | deep acc: 1.0000 | deeper acc: 1.0000\n",
      "epoch: 49 | batch:  200 | shallow acc: 1.0000 | deep acc: 1.0000 | deeper acc: 1.0000\n",
      "end of training\n"
     ]
    }
   ],
   "source": [
    "print('start')\n",
    "loss_shallow_list = []\n",
    "loss_deep_list = []\n",
    "loss_deeper_list = []\n",
    "acc_shallow_list= []\n",
    "acc_deep_list= []\n",
    "acc_deeper_list= []\n",
    "for epoch in range(EPOCH):\n",
    "    for idx, (x, y) in enumerate(train_loader):\n",
    "        if CUDA:\n",
    "            x, y= x.cuda(), y.cuda()\n",
    "        x, y= Variable(x), Variable(y)\n",
    "        #shallow\n",
    "        pred_shallow = shallow(x)\n",
    "        loss_shallow = loss_func(pred_shallow, y)\n",
    "        optim_shallow.zero_grad()\n",
    "        loss_shallow.backward()\n",
    "        optim_shallow.step()\n",
    "        loss_shallow_list.append(loss_shallow.data[0])\n",
    "        \n",
    "        #deep\n",
    "        pred_deep = deep(x)\n",
    "        loss_deep = loss_func(pred_deep, y)\n",
    "        optim_deep.zero_grad()\n",
    "        loss_deep.backward()\n",
    "        optim_deep.step()\n",
    "        loss_deep_list.append(loss_deep.data[0])\n",
    "        \n",
    "        #deeper\n",
    "        pred_deeper = deeper(x)\n",
    "        loss_deeper = loss_func(pred_deeper, y)\n",
    "        optim_deeper.zero_grad()\n",
    "        loss_deeper.backward()\n",
    "        optim_deeper.step()\n",
    "        loss_deeper_list.append(loss_deeper.data[0])\n",
    "\n",
    "        #record acc\n",
    "        acc_shallow_list.append(sum(torch.max(pred_shallow, 1)[1].data.squeeze() == y.data)/float(y.size(0)))\n",
    "        acc_deep_list.append(sum(torch.max(pred_deep, 1)[1].data.squeeze() == y.data)/float(y.size(0)))\n",
    "        acc_deeper_list.append(sum(torch.max(pred_deeper, 1)[1].data.squeeze() == y.data)/float(y.size(0)))\n",
    "        \n",
    "        if idx % 100 == 0:\n",
    "            pred_shallow = torch.max(pred_shallow, 1)[1].data.squeeze()\n",
    "            pred_deep = torch.max(pred_deep, 1)[1].data.squeeze()\n",
    "            pred_deeper = torch.max(pred_deeper, 1)[1].data.squeeze()\n",
    "\n",
    "            acc_shallow = sum(pred_shallow == y.data)/float(y.size(0))\n",
    "            acc_deep = sum(pred_deep == y.data)/float(y.size(0))\n",
    "            acc_deeper = sum(pred_deeper == y.data)/float(y.size(0))\n",
    "            \n",
    "\n",
    "            print(\"epoch: %2d | batch: %4d | shallow acc: %.4f | deep acc: %.4f | deeper acc: %.4f\"\n",
    "                 % (epoch, idx, acc_shallow, acc_deep, acc_deeper))\n",
    "print('end of training')\n",
    "        "
   ]
  },
  {
   "cell_type": "markdown",
   "metadata": {},
   "source": [
    "## Loss\\Acc Visualization"
   ]
  },
  {
   "cell_type": "code",
   "execution_count": 70,
   "metadata": {
    "collapsed": false
   },
   "outputs": [
    {
     "data": {
      "image/png": "[encoded data removed]",
      "text/plain": [
       "<matplotlib.figure.Figure at 0x21983223f28>"
      ]
     },
     "metadata": {},
     "output_type": "display_data"
    },
    {
     "data": {
      "image/png": "[encoded data removed]",
      "text/plain": [
       "<matplotlib.figure.Figure at 0x219832cc048>"
      ]
     },
     "metadata": {},
     "output_type": "display_data"
    }
   ],
   "source": [
    "num_show = 11750\n",
    "plt.plot(np.arange(num_show), np.log(np.array(loss_shallow_list[:num_show])), label='shallow')\n",
    "plt.plot(np.arange(num_show), np.log(np.array(loss_deep_list[:num_show])), label='deep')\n",
    "plt.plot(np.arange(num_show), np.log(np.array(loss_deeper_list[:num_show])), label='deeper')\n",
    "plt.title('Loss')\n",
    "plt.xlabel('batch')\n",
    "plt.ylabel('Log(loss)')\n",
    "plt.legend()\n",
    "plt.show()\n",
    "\n",
    "plt.plot(np.arange(num_show), np.array(acc_shallow_list[:num_show]), label='shallow')\n",
    "plt.plot(np.arange(num_show), np.array(acc_deep_list[:num_show]), label='deep')\n",
    "plt.plot(np.arange(num_show), np.array(acc_deeper_list[:num_show]), label='deeper')\n",
    "plt.title('Accuracy')\n",
    "plt.xlabel('batch')\n",
    "plt.ylabel('Accuracy')\n",
    "plt.legend()\n",
    "plt.show()"
   ]
  },
  {
   "cell_type": "markdown",
   "metadata": {},
   "source": [
    "## Little Test"
   ]
  },
  {
   "cell_type": "code",
   "execution_count": 46,
   "metadata": {
    "collapsed": false
   },
   "outputs": [
    {
     "name": "stdout",
     "output_type": "stream",
     "text": [
      "shallow: 8 | deep: 8 | deeper: 8\n",
      "shallow: 8 | deep: 8 | deeper: 8\n",
      "shallow: 2 | deep: 2 | deeper: 2\n",
      "shallow: 7 | deep: 7 | deeper: 7\n",
      "shallow: 9 | deep: 9 | deeper: 9\n"
     ]
    },
    {
     "data": {
      "image/png": "[encoded data removed]",
      "text/plain": [
       "<Figure size 432x288 with 5 Axes>"
      ]
     },
     "metadata": {},
     "output_type": "display_data"
    }
   ],
   "source": [
    "fig, axes = plt.subplots(1,5)\n",
    "for num, ax in enumerate(axes):\n",
    "    ax.imshow(x.data[num][0])\n",
    "    tmp1 = int(torch.max(shallow(x[num:num+1]), 1)[1])\n",
    "    tmp2 = int(torch.max(deep(x[num:num+1]), 1)[1])\n",
    "    tmp3 = int(torch.max(deeper(x[num:num+1]), 1)[1])\n",
    "    print(\"shallow: %d | deep: %d | deeper: %d\" % (tmp1, tmp2, tmp3))"
   ]
  },
  {
   "cell_type": "code",
   "execution_count": null,
   "metadata": {
    "collapsed": true
   },
   "outputs": [],
   "source": []
  }
 ],
 "metadata": {
  "kernelspec": {
   "display_name": "Python 3",
   "language": "python",
   "name": "python3"
  },
  "language_info": {
   "codemirror_mode": {
    "name": "ipython",
    "version": 3
   },
   "file_extension": ".py",
   "mimetype": "text/x-python",
   "name": "python",
   "nbconvert_exporter": "python",
   "pygments_lexer": "ipython3",
   "version": "3.6.0"
  }
 },
 "nbformat": 4,
 "nbformat_minor": 2
}
