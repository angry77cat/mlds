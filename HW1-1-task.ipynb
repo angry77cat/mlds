{
 "cells": [
  {
   "cell_type": "code",
   "execution_count": 3,
   "metadata": {},
   "outputs": [],
   "source": [
    "import numpy as np\n",
    "import matplotlib.pyplot as plt\n",
    "import sys \n",
    "# needed to let jupyter find the module...\n",
    "sys.path.append('/Users/toastcheng/Desktop/MLDS/lib/python3.6/site-packages/')"
   ]
  },
  {
   "cell_type": "code",
   "execution_count": 4,
   "metadata": {},
   "outputs": [],
   "source": [
    "import torch\n",
    "import torch.nn as nn\n",
    "import torch.nn.functional as F\n",
    "import torch.optim as optim\n",
    "from torch.autograd import Variable\n",
    "import torch.utils.data as data\n",
    "import torchvision\n",
    "%matplotlib inline"
   ]
  },
  {
   "cell_type": "code",
   "execution_count": 38,
   "metadata": {},
   "outputs": [
    {
     "data": {
      "text/plain": [
       "<torch._C.Generator at 0x10d828110>"
      ]
     },
     "execution_count": 38,
     "metadata": {},
     "output_type": "execute_result"
    }
   ],
   "source": [
    "BATCH_SIZE = 64\n",
    "LR = 1e-4\n",
    "EPOCH = 1\n",
    "np.random.seed(1)\n",
    "torch.manual_seed(1)"
   ]
  },
  {
   "cell_type": "markdown",
   "metadata": {},
   "source": [
    "## Load Data"
   ]
  },
  {
   "cell_type": "code",
   "execution_count": 6,
   "metadata": {},
   "outputs": [],
   "source": [
    "train_data = torchvision.datasets.MNIST(root=\"./data/mnist/\",\n",
    "                                       train=True,\n",
    "                                       transform=torchvision.transforms.ToTensor(),\n",
    "                                       download=True)\n",
    "test_data = torchvision.datasets.MNIST(root=\"./data/mnist/\",\n",
    "                                      train=False)\n",
    "train_loader = data.DataLoader(dataset=train_data, batch_size=BATCH_SIZE, shuffle=True)"
   ]
  },
  {
   "cell_type": "markdown",
   "metadata": {},
   "source": [
    "## Define Model Structure"
   ]
  },
  {
   "cell_type": "code",
   "execution_count": 39,
   "metadata": {},
   "outputs": [],
   "source": [
    "class CNN_shallow(nn.Module):\n",
    "    def __init__(self):\n",
    "        super(CNN_shallow, self).__init__()\n",
    "        self.conv1 = nn.Sequential(\n",
    "            nn.Conv2d(1, 147, 7, 1, 3),\n",
    "            nn.ReLU(),\n",
    "            nn.MaxPool2d(2)\n",
    "        ) # m * 19 * 14 * 14\n",
    "        self.fc1 = nn.Linear(147 * 14 * 14, 10)\n",
    "        \n",
    "    def forward(self, x):\n",
    "        x = self.conv1(x)\n",
    "        x = x.view(x.size(0), -1)\n",
    "        x = self.fc1(x)\n",
    "        return x\n",
    "\n",
    "\n",
    "class CNN_deep(nn.Module):\n",
    "    def __init__(self):\n",
    "        super(CNN_deep, self).__init__()\n",
    "        self.conv1 = nn.Sequential(\n",
    "            nn.Conv2d(1, 40, 5, 1, 2),\n",
    "            nn.ReLU(),\n",
    "            nn.MaxPool2d(2),\n",
    "         # m * 8 * 14 * 14\n",
    "            nn.Conv2d(40, 81, 5, 1, 2),\n",
    "            nn.ReLU(),\n",
    "            nn.MaxPool2d(2),\n",
    "         # m * 16 * 7 * 7\n",
    "            nn.Conv2d(81, 101, 5, 2, 1),\n",
    "            nn.ReLU(),\n",
    "        ) # m * 39 * 3 * 3\n",
    "        self.fc1 = nn.Linear(101 * 3 * 3, 10)\n",
    "        \n",
    "    def forward(self, x):\n",
    "        x = self.conv1(x)\n",
    "        x = x.view(x.size(0), -1)\n",
    "        x = self.fc1(x)\n",
    "        return x\n",
    "\n",
    "\n",
    "class CNN_deeper(nn.Module):\n",
    "    def __init__(self):\n",
    "        super(CNN_deeper, self).__init__()\n",
    "        self.conv1 = nn.Sequential(\n",
    "            nn.Conv2d(1, 30, 5, 1, 2),\n",
    "            nn.ReLU(),\n",
    "            nn.MaxPool2d(2),\n",
    "            # m * 5 * 14 * 14\n",
    "            nn.Conv2d(30, 63, 5, 1, 2),\n",
    "            nn.ReLU(),\n",
    "            nn.MaxPool2d(2),\n",
    "            # m * 10 * 7 * 7\n",
    "            nn.Conv2d(63, 80, 5, 1, 1),\n",
    "            nn.ReLU(),\n",
    "            # m * 15 * 5 * 5\n",
    "            nn.Conv2d(80, 127, 3, 1, 0),\n",
    "            nn.ReLU(),\n",
    "            # m * 18 * 3 * 3\n",
    "            nn.Conv2d(127, 140, 1, 1, 0),\n",
    "            nn.ReLU(),\n",
    "            # m * 22 * 3 * 3\n",
    "\n",
    "        )\n",
    "        self.fc1 = nn.Linear(140 * 3 * 3, 10)\n",
    "        \n",
    "    def forward(self, x):\n",
    "        x = self.conv1(x)\n",
    "        x = x.view(x.size(0), -1)\n",
    "        x = self.fc1(x)\n",
    "        return x"
   ]
  },
  {
   "cell_type": "markdown",
   "metadata": {},
   "source": [
    "## Set Optimizer and loss"
   ]
  },
  {
   "cell_type": "code",
   "execution_count": 40,
   "metadata": {},
   "outputs": [],
   "source": [
    "shallow = CNN_shallow()\n",
    "deep = CNN_deep()\n",
    "deeper = CNN_deeper()\n",
    "optim_shallow = optim.Adam(params=shallow.parameters(),lr=LR)\n",
    "optim_deep = optim.Adam(params=deep.parameters(),lr=LR)\n",
    "optim_deeper = optim.Adam(params=deeper.parameters(),lr=LR)\n",
    "loss_func = nn.CrossEntropyLoss()"
   ]
  },
  {
   "cell_type": "markdown",
   "metadata": {},
   "source": [
    "## Count the parameters in each model"
   ]
  },
  {
   "cell_type": "code",
   "execution_count": 41,
   "metadata": {},
   "outputs": [
    {
     "name": "stdout",
     "output_type": "stream",
     "text": [
      "parameters in shallow model:\n",
      "295480\n",
      "parameters in deep model:\n",
      "295847\n",
      "parameters in deeper model:\n",
      "296270\n"
     ]
    }
   ],
   "source": [
    "def count_parameters(model):\n",
    "    return sum(p.numel() for p in model.parameters() if p.requires_grad)\n",
    "\n",
    "count_shallow = count_parameters(shallow)\n",
    "count_deep = count_parameters(deep)\n",
    "count_deeper = count_parameters(deeper)\n",
    "\n",
    "print(\"parameters in shallow model:\")\n",
    "print(count_shallow)\n",
    "print(\"parameters in deep model:\")\n",
    "print(count_deep)\n",
    "print(\"parameters in deeper model:\")\n",
    "print(count_deeper)"
   ]
  },
  {
   "cell_type": "markdown",
   "metadata": {},
   "source": [
    "## Train"
   ]
  },
  {
   "cell_type": "code",
   "execution_count": 42,
   "metadata": {},
   "outputs": [
    {
     "name": "stdout",
     "output_type": "stream",
     "text": [
      "start\n",
      "epoch:  0 | batch:    0 | shallow acc: 0.0859 | deep acc: 0.1172 | deeper acc: 0.1016\n",
      "epoch:  0 | batch:  100 | shallow acc: 0.8906 | deep acc: 0.8438 | deeper acc: 0.7812\n",
      "epoch:  0 | batch:  200 | shallow acc: 0.9297 | deep acc: 0.9375 | deeper acc: 0.9141\n",
      "epoch:  0 | batch:  300 | shallow acc: 0.8984 | deep acc: 0.9062 | deeper acc: 0.8594\n",
      "epoch:  0 | batch:  400 | shallow acc: 0.9062 | deep acc: 0.8984 | deeper acc: 0.9141\n"
     ]
    }
   ],
   "source": [
    "print('start')\n",
    "loss_shallow_list = []\n",
    "loss_deep_list = []\n",
    "loss_deeper_list = []\n",
    "for epoch in range(EPOCH):\n",
    "    for idx, (x, y) in enumerate(train_loader):\n",
    "        x, y= Variable(x), Variable(y)\n",
    "        \n",
    "        #shallow\n",
    "        pred_shallow = shallow(x)\n",
    "        loss_shallow = loss_func(pred_shallow, y)\n",
    "        optim_shallow.zero_grad()\n",
    "        loss_shallow.backward()\n",
    "        optim_shallow.step()\n",
    "        loss_shallow_list.append(loss_shallow.data[0])\n",
    "        \n",
    "        #deep\n",
    "        pred_deep = deep(x)\n",
    "        loss_deep = loss_func(pred_deep, y)\n",
    "        optim_deep.zero_grad()\n",
    "        loss_deep.backward()\n",
    "        optim_deep.step()\n",
    "        loss_deep_list.append(loss_deep.data[0])\n",
    "        \n",
    "        #deeper\n",
    "        pred_deeper = deeper(x)\n",
    "        loss_deeper = loss_func(pred_deeper, y)\n",
    "        optim_deeper.zero_grad()\n",
    "        loss_deeper.backward()\n",
    "        optim_deeper.step()\n",
    "        loss_deeper_list.append(loss_deeper.data[0])\n",
    "\n",
    "        \n",
    "        if idx % 100 == 0:\n",
    "            pred_shallow = torch.max(pred_shallow, 1)[1].data.squeeze()\n",
    "            pred_deep = torch.max(pred_deep, 1)[1].data.squeeze()\n",
    "            pred_deeper = torch.max(pred_deeper, 1)[1].data.squeeze()\n",
    "\n",
    "            acc_shallow = sum(pred_shallow == y.data)/float(y.size(0))\n",
    "            acc_deep = sum(pred_deep == y.data)/float(y.size(0))\n",
    "            acc_deeper = sum(pred_deeper == y.data)/float(y.size(0))\n",
    "\n",
    "            print(\"epoch: %2d | batch: %4d | shallow acc: %.4f | deep acc: %.4f | deeper acc: %.4f\"\n",
    "                 % (epoch, idx, acc_shallow, acc_deep, acc_deeper))\n",
    "        "
   ]
  },
  {
   "cell_type": "markdown",
   "metadata": {},
   "source": [
    "## Loss Visualization"
   ]
  },
  {
   "cell_type": "code",
   "execution_count": 44,
   "metadata": {},
   "outputs": [
    {
     "data": {
      "image/png": "[encoded data removed]",
      "text/plain": [
       "<Figure size 432x288 with 1 Axes>"
      ]
     },
     "metadata": {},
     "output_type": "display_data"
    }
   ],
   "source": [
    "num_show = 400\n",
    "plt.plot(np.arange(num_show), np.log(np.array(loss_shallow_list[:num_show])), label='shallow')\n",
    "plt.plot(np.arange(num_show), np.log(np.array(loss_deep_list[:num_show])), label='deep')\n",
    "plt.plot(np.arange(num_show), np.log(np.array(loss_deeper_list[:num_show])), label='deeper')\n",
    "plt.title('Loss')\n",
    "plt.xlabel('batch')\n",
    "plt.ylabel('loss')\n",
    "plt.legend()\n",
    "plt.show()"
   ]
  },
  {
   "cell_type": "markdown",
   "metadata": {},
   "source": [
    "## Little Test"
   ]
  },
  {
   "cell_type": "code",
   "execution_count": 46,
   "metadata": {},
   "outputs": [
    {
     "name": "stdout",
     "output_type": "stream",
     "text": [
      "shallow: 8 | deep: 8 | deeper: 8\n",
      "shallow: 8 | deep: 8 | deeper: 8\n",
      "shallow: 2 | deep: 2 | deeper: 2\n",
      "shallow: 7 | deep: 7 | deeper: 7\n",
      "shallow: 9 | deep: 9 | deeper: 9\n"
     ]
    },
    {
     "data": {
      "image/png": "[encoded data removed]",
      "text/plain": [
       "<Figure size 432x288 with 5 Axes>"
      ]
     },
     "metadata": {},
     "output_type": "display_data"
    }
   ],
   "source": [
    "fig, axes = plt.subplots(1,5)\n",
    "for num, ax in enumerate(axes):\n",
    "    ax.imshow(x.data[num][0])\n",
    "    tmp1 = int(torch.max(shallow(x[num:num+1]), 1)[1])\n",
    "    tmp2 = int(torch.max(deep(x[num:num+1]), 1)[1])\n",
    "    tmp3 = int(torch.max(deeper(x[num:num+1]), 1)[1])\n",
    "    print(\"shallow: %d | deep: %d | deeper: %d\" % (tmp1, tmp2, tmp3))"
   ]
  },
  {
   "cell_type": "code",
   "execution_count": null,
   "metadata": {},
   "outputs": [],
   "source": []
  }
 ],
 "metadata": {
  "kernelspec": {
   "display_name": "Python 3",
   "language": "python",
   "name": "python3"
  },
  "language_info": {
   "codemirror_mode": {
    "name": "ipython",
    "version": 3
   },
   "file_extension": ".py",
   "mimetype": "text/x-python",
   "name": "python",
   "nbconvert_exporter": "python",
   "pygments_lexer": "ipython3",
   "version": "3.6.3"
  }
 },
 "nbformat": 4,
 "nbformat_minor": 2
}
