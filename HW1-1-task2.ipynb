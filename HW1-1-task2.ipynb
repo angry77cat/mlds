{
 "cells": [
  {
   "cell_type": "code",
   "execution_count": 76,
   "metadata": {
    "collapsed": true
   },
   "outputs": [],
   "source": [
    "# Import library\n",
    "import torch\n",
    "import torch.nn as nn\n",
    "import torch.nn.functional as F\n",
    "import torch.optim as optim\n",
    "from torchvision import datasets, transforms\n",
    "from torch.autograd import Variable\n",
    "import torchvision"
   ]
  },
  {
   "cell_type": "code",
   "execution_count": 77,
   "metadata": {
    "collapsed": true
   },
   "outputs": [],
   "source": [
    "# Parameters\n",
    "BATCH_N= 128\n",
    "BATCH_TEST_N= 50000\n",
    "LR= 5e-4\n",
    "EPOCH= 1\n",
    "LOG_IV= 100\n"
   ]
  },
  {
   "cell_type": "code",
   "execution_count": 78,
   "metadata": {
    "collapsed": false
   },
   "outputs": [
    {
     "name": "stdout",
     "output_type": "stream",
     "text": [
      "Files already downloaded and verified\n",
      "Files already downloaded and verified\n"
     ]
    }
   ],
   "source": [
    "# Load data\n",
    "\n",
    "kwargs = {'num_workers': 1, 'pin_memory': True}\n",
    "train_loader = torch.utils.data.DataLoader(\n",
    "    torchvision.datasets.CIFAR10(root = \"../data/cifar/\", \n",
    "                                 train= True, download = True, \n",
    "                                 transform=transforms.Compose([transforms.ToTensor()])),\n",
    "    batch_size= BATCH_N, shuffle=True, **kwargs)\n",
    "test_loader = torch.utils.data.DataLoader(\n",
    "    torchvision.datasets.CIFAR10(root = \"../data/cifar/\", \n",
    "                                 train= False, download = True, \n",
    "                                 transform=transforms.Compose([transforms.ToTensor()])),\n",
    "    batch_size= BATCH_TEST_N, shuffle=True, **kwargs)\n"
   ]
  },
  {
   "cell_type": "code",
   "execution_count": 79,
   "metadata": {
    "collapsed": false
   },
   "outputs": [],
   "source": [
    "# Define models\n",
    "class ShallowNet(nn.Module):\n",
    "    def __init__(self):\n",
    "        super(ShallowNet, self).__init__()\n",
    "        self.conv1 = nn.Sequential(\n",
    "            nn.Conv2d(3, 51, 5, padding=2),\n",
    "            nn.ReLU(),\n",
    "            nn.MaxPool2d(2)\n",
    "        )\n",
    "        self.fc1 = nn.Linear(51 * 16 * 16, 10)\n",
    "\n",
    "    def forward(self, x):\n",
    "        x = self.conv1(x)\n",
    "        x = x.view(x.size(0), -1)\n",
    "        x = self.fc1(x)\n",
    "        return x\n",
    "    \n",
    "class DeepNet(nn.Module):\n",
    "    def __init__(self):\n",
    "        super(DeepNet, self).__init__()\n",
    "        self.conv1 = nn.Sequential(\n",
    "            nn.Conv2d(3, 22, 5, padding= 2),\n",
    "            nn.ReLU(),\n",
    "            nn.MaxPool2d(2),\n",
    "            nn.Conv2d(22, 35, 5, padding= 2),\n",
    "            nn.ReLU(),\n",
    "            nn.MaxPool2d(2),\n",
    "            nn.Conv2d(35, 75, 5, padding= 2),\n",
    "            nn.ReLU(),\n",
    "        )\n",
    "        self.fc1 = nn.Linear(75 * 8 * 8, 10)\n",
    "\n",
    "    def forward(self, x):\n",
    "        x = self.conv1(x)\n",
    "        x = x.view(x.size(0), -1)\n",
    "        x = self.fc1(x)\n",
    "        return x\n",
    "\n",
    "class DeeperNet(nn.Module):\n",
    "    def __init__(self):\n",
    "        super(DeeperNet, self).__init__()\n",
    "        self.conv1 = nn.Sequential(\n",
    "            nn.Conv2d(3, 20, 5, padding= 2),\n",
    "            nn.ReLU(),\n",
    "            nn.MaxPool2d(2),\n",
    "            nn.Conv2d(20, 25, 5, padding= 2),\n",
    "            nn.ReLU(),\n",
    "            nn.MaxPool2d(2),\n",
    "            nn.Conv2d(25, 31, 5, padding= 2),\n",
    "            nn.ReLU(),\n",
    "            nn.MaxPool2d(2),\n",
    "            nn.Conv2d(31, 46, 5, padding= 2),\n",
    "            nn.ReLU(),\n",
    "            nn.Conv2d(46, 50, 5, padding= 2),\n",
    "            nn.ReLU(),\n",
    "        )\n",
    "        self.fc1 = nn.Linear(50 * 4 * 4, 10)\n",
    "\n",
    "    def forward(self, x):\n",
    "        x = self.conv1(x)\n",
    "        x = x.view(x.size(0), -1)\n",
    "        x = self.fc1(x)\n",
    "        return x\n",
    "    \n",
    "# class DeeperNet(nn.Module):\n",
    "#     def __init__(self):\n",
    "#         super(DeeperNet, self).__init__()\n",
    "#         self.conv1 = nn.Conv2d(3, 6, 5)\n",
    "#         self.pool = nn.MaxPool2d(2, 2)\n",
    "#         self.conv2 = nn.Conv2d(6, 16, 5)\n",
    "#         self.fc1 = nn.Linear(16 * 5 * 5, 120)\n",
    "#         self.fc2 = nn.Linear(120, 84)\n",
    "#         self.fc3 = nn.Linear(84, 10)\n",
    "\n",
    "#     def forward(self, x):\n",
    "#         x = self.pool(F.relu(self.conv1(x)))\n",
    "#         x = self.pool(F.relu(self.conv2(x)))\n",
    "#         x = x.view(-1, 16 * 5 * 5)\n",
    "#         x = F.relu(self.fc1(x))\n",
    "#         x = F.relu(self.fc2(x))\n",
    "#         x = self.fc3(x)\n",
    "#         return x\n",
    "shallow = ShallowNet()\n",
    "deep = DeepNet()\n",
    "deeper = DeeperNet()"
   ]
  },
  {
   "cell_type": "code",
   "execution_count": 80,
   "metadata": {
    "collapsed": false
   },
   "outputs": [
    {
     "name": "stdout",
     "output_type": "stream",
     "text": [
      "parameters in shallow model:\n",
      "134446\n",
      "parameters in deep model:\n",
      "134667\n",
      "parameters in deeper model:\n",
      "134707\n"
     ]
    }
   ],
   "source": [
    "# Count # of parameters\n",
    "def count_parameters(model):\n",
    "    return sum(p.numel() for p in model.parameters() if p.requires_grad)\n",
    "\n",
    "count_shallow = count_parameters(shallow)\n",
    "count_deep = count_parameters(deep)\n",
    "count_deeper = count_parameters(deeper)\n",
    "\n",
    "print(\"parameters in shallow model:\")\n",
    "print(count_shallow)\n",
    "print(\"parameters in deep model:\")\n",
    "print(count_deep)\n",
    "print(\"parameters in deeper model:\")\n",
    "print(count_deeper)"
   ]
  },
  {
   "cell_type": "code",
   "execution_count": 81,
   "metadata": {
    "collapsed": true
   },
   "outputs": [],
   "source": [
    "optim_shallow = optim.Adam(params=shallow.parameters(),lr=LR)\n",
    "optim_deep = optim.Adam(params=deep.parameters(),lr=LR)\n",
    "optim_deeper = optim.Adam(params=deeper.parameters(),lr=LR)\n",
    "criterion = nn.CrossEntropyLoss()"
   ]
  },
  {
   "cell_type": "code",
   "execution_count": 82,
   "metadata": {
    "collapsed": false
   },
   "outputs": [
    {
     "name": "stdout",
     "output_type": "stream",
     "text": [
      "Train Epoch: 0 [0/50000 (0%)]\n",
      "Loss: | 2.323265 | 2.302590 | 2.303523 \n",
      "Acc:  | 0.093750 | 0.117188 | 0.070312\n"
     ]
    },
    {
     "name": "stderr",
     "output_type": "stream",
     "text": [
      "\n",
      "KeyboardInterrupt\n",
      "\n"
     ]
    }
   ],
   "source": [
    "loss_shallow_hist= []\n",
    "loss_deep_hist= []\n",
    "loss_deeper_hist= []\n",
    "acc_shallow_hist= []\n",
    "acc_deep_hist= []\n",
    "acc_deeper_hist= []\n",
    "\n",
    "for epoch in range(EPOCH):  # loop over the dataset multiple times\n",
    "\n",
    "    running_loss = 0.0\n",
    "    for batch_idx, (inputs, labels) in enumerate(train_loader):\n",
    "        inputs, labels= Variable(inputs), Variable(labels)\n",
    "        optim_shallow.zero_grad()\n",
    "        optim_deep.zero_grad()\n",
    "        optim_deeper.zero_grad()\n",
    "        \n",
    "        outputs_shallow= shallow(inputs)\n",
    "        outputs_deep= deep(inputs)\n",
    "        outputs_deeper= deeper(inputs)\n",
    "        \n",
    "        loss_shallow= criterion(outputs_shallow, labels)\n",
    "        loss_deep= criterion(outputs_deep, labels)\n",
    "        loss_deeper= criterion(outputs_deeper, labels)\n",
    "        \n",
    "        loss_shallow.backward()\n",
    "        loss_deep.backward()\n",
    "        loss_deeper.backward()\n",
    "        \n",
    "        optim_shallow.step()\n",
    "        optim_deep.step()\n",
    "        optim_deeper.step()\n",
    "        \n",
    "        # recordings\n",
    "        outputs_shallow = torch.max(outputs_shallow, 1)[1].data.squeeze()\n",
    "        outputs_deep = torch.max(outputs_deep, 1)[1].data.squeeze()\n",
    "        outputs_deeper = torch.max(outputs_deeper, 1)[1].data.squeeze()\n",
    "\n",
    "        acc_shallow = sum(outputs_shallow == labels.data)/float(labels.size(0))\n",
    "        acc_deep = sum(outputs_deep == labels.data)/float(labels.size(0))\n",
    "        acc_deeper = sum(outputs_deeper == labels.data)/float(labels.size(0))\n",
    "        \n",
    "        loss_shallow_hist.append(loss_shallow)\n",
    "        loss_deep_hist.append(loss_deep)\n",
    "        loss_deeper_hist.append(loss_deeper)\n",
    "        acc_shallow_hist.append(acc_shallow)\n",
    "        acc_deep_hist.append(acc_deep)\n",
    "        acc_deeper_hist.append(acc_deeper)\n",
    "        if batch_idx % LOG_IV == 0:\n",
    "            print('Train Epoch: {} [{}/{} ({:.0f}%)]\\nLoss: | {:.6f} | {:.6f} | {:.6f} \\nAcc:  | {:.6f} | {:.6f} | {:.6f}'.format(\n",
    "                epoch, batch_idx * len(inputs), len(train_loader.dataset),\n",
    "                100. * batch_idx / len(train_loader), loss_shallow.data[0], loss_deep.data[0], loss_deeper.data[0],\n",
    "            acc_shallow, acc_deep, acc_deeper))\n",
    "            \n",
    "            \n"
   ]
  },
  {
   "cell_type": "code",
   "execution_count": null,
   "metadata": {
    "collapsed": true
   },
   "outputs": [],
   "source": [
    "import matplotlib.pyplot as plt\n",
    "import numpy as np\n",
    "length= len(loss_shallow_hist)\n",
    "plt.plot(np.arange(length), np.array(loss_shallow_hist).reshape(length,), label='shallow')\n",
    "plt.plot(np.arange(length), np.array(loss_deep_hist).reshape(length,), label='shallow')\n",
    "plt.plot(np.arange(length), np.array(loss_deeper_hist).reshape(length,), label='shallow')\n",
    "plt.xlabel('batch')\n",
    "plt.ylabel('loss')\n",
    "plt.legend()\n",
    "plt.show()"
   ]
  },
  {
   "cell_type": "code",
   "execution_count": null,
   "metadata": {},
   "outputs": [],
   "source": []
  },
  {
   "cell_type": "code",
   "execution_count": null,
   "metadata": {},
   "outputs": [],
   "source": []
  }
 ],
 "metadata": {
  "kernelspec": {
   "display_name": "Python 3",
   "language": "python",
   "name": "python3"
  },
  "language_info": {
   "codemirror_mode": {
    "name": "ipython",
    "version": 3
   },
   "file_extension": ".py",
   "mimetype": "text/x-python",
   "name": "python",
   "nbconvert_exporter": "python",
   "pygments_lexer": "ipython3",
   "version": "3.6.0"
  }
 },
 "nbformat": 4,
 "nbformat_minor": 2
}
