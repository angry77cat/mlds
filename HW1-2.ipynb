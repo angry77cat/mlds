{
 "cells": [
  {
   "cell_type": "code",
   "execution_count": 171,
   "metadata": {},
   "outputs": [],
   "source": [
    "import torch\n",
    "import torch.nn as nn\n",
    "import torch.optim as optim\n",
    "import torch.nn.functional as F\n",
    "from torch.autograd import Variable"
   ]
  },
  {
   "cell_type": "code",
   "execution_count": 172,
   "metadata": {},
   "outputs": [],
   "source": [
    "import numpy as np\n",
    "import matplotlib.pyplot as plt\n",
    "from sklearn.decomposition import PCA\n",
    "%matplotlib inline"
   ]
  },
  {
   "cell_type": "markdown",
   "metadata": {},
   "source": [
    "#### Hyprerparameters"
   ]
  },
  {
   "cell_type": "code",
   "execution_count": 173,
   "metadata": {},
   "outputs": [],
   "source": [
    "np.random.seed(1)\n",
    "torch.manual_seed(1)\n",
    "\n",
    "NUM_MODEL = 8\n",
    "NUM_MIN = 50 # for plotting minimal ratio\n",
    "LR = 5e-3\n",
    "EPOCH = 7000\n",
    "# for 2nd training\n",
    "LR2 = 1e-4\n",
    "EPOCH2 = 1000\n",
    "USE_CUDA = torch.cuda.is_available()"
   ]
  },
  {
   "cell_type": "markdown",
   "metadata": {},
   "source": [
    "#### Generate Data"
   ]
  },
  {
   "cell_type": "code",
   "execution_count": 174,
   "metadata": {},
   "outputs": [],
   "source": [
    "def sample_func(x):\n",
    "    return np.sinc(x)"
   ]
  },
  {
   "cell_type": "code",
   "execution_count": 175,
   "metadata": {},
   "outputs": [],
   "source": [
    "train_x = (2 * np.random.rand(2000)-1) * 3\n",
    "train_y = sample_func(train_x)\n",
    "train_x, train_y = Variable(torch.FloatTensor(train_x)), Variable(torch.FloatTensor(train_y))\n",
    "train_x = train_x.unsqueeze(1)\n",
    "train_y = train_y.unsqueeze(1)"
   ]
  },
  {
   "cell_type": "markdown",
   "metadata": {},
   "source": [
    "#### Define Network Structure"
   ]
  },
  {
   "cell_type": "code",
   "execution_count": 176,
   "metadata": {},
   "outputs": [],
   "source": [
    "class Net(nn.Module):\n",
    "    def __init__(self):\n",
    "        super(Net, self).__init__()\n",
    "        self.fc1 = nn.Linear(1, 16)\n",
    "        self.fc2 = nn.Linear(16, 32)\n",
    "        self.fc3 = nn.Linear(32, 1)\n",
    "        \n",
    "    def forward(self, x):\n",
    "        x = self.fc1(x)\n",
    "        x = F.relu(x)\n",
    "        x = self.fc2(x)\n",
    "        x = F.relu(x)\n",
    "        x = self.fc3(x)\n",
    "        return x"
   ]
  },
  {
   "cell_type": "markdown",
   "metadata": {},
   "source": [
    "#### Set Loss"
   ]
  },
  {
   "cell_type": "code",
   "execution_count": 177,
   "metadata": {},
   "outputs": [],
   "source": [
    "loss_func = nn.MSELoss()"
   ]
  },
  {
   "cell_type": "markdown",
   "metadata": {},
   "source": [
    "#### Some Helper Functions"
   ]
  },
  {
   "cell_type": "code",
   "execution_count": 191,
   "metadata": {},
   "outputs": [],
   "source": [
    "def calculate_grad(model):\n",
    "    grad_all = 0\n",
    "    for layer in model.parameters():\n",
    "        if layer.grad is not None:\n",
    "            grad = (layer.grad.data.numpy() **2).sum()\n",
    "            grad_all += grad\n",
    "    return grad_all\n",
    "\n",
    "# this function can add grad into computational graph\n",
    "def calculate_grad2(model, loss):\n",
    "    grad_norm = 0\n",
    "    grad_params = torch.autograd.grad(loss, model.parameters(), create_graph=True, retain_graph=True)\n",
    "    for grad in grad_params:\n",
    "        grad_norm += grad.pow(2).sum()\n",
    "    return grad_norm\n",
    "\n",
    "def minimal_ratio(matrix):\n",
    "    w, _ = np.linalg.eig(matrix)\n",
    "    return (w > 0).mean()\n",
    "\n",
    "# dosent work ...\n",
    "def calculate_hessian(loss, model):\n",
    "    var = model.parameters()\n",
    "    temp = []\n",
    "    grads = torch.autograd.grad(loss, var, create_graph=True)\n",
    "    grads = torch.cat([g.view(-1) for g in grads])\n",
    "    for grad in grads:\n",
    "        grad2 = torch.autograd.grad(grad, var, create_graph=True)\n",
    "        temp.append(grad2)\n",
    "    return np.array(temp)\n",
    "\n",
    "# return a layer-structured hessian matrix (bad)\n",
    "def calculate_hessian2(loss, model):\n",
    "    var = [ i for i in model.parameters()]\n",
    "    temp = []\n",
    "    grads = torch.autograd.grad(loss, var, create_graph=True, retain_graph=True)\n",
    "    for layer in grads:\n",
    "        for grad in layer:\n",
    "            for g in grad:\n",
    "                temp2 = []\n",
    "#                 g.backward(retain_graph=True) # not necessary\n",
    "                for v in var:\n",
    "                    grad2 = torch.autograd.grad(g, v, create_graph=True, retain_graph=True)\n",
    "                    for grd in grad2:\n",
    "                        temp2.append(grd)\n",
    "                temp.append(temp2)\n",
    "    return np.array(temp)\n",
    "\n",
    "# return a 2D hessian matrix (good)\n",
    "def calculate_hessian3(loss, model):\n",
    "    var = [ i for i in model.parameters()]\n",
    "    hessian = torch.zeros(1)\n",
    "    grads = torch.autograd.grad(loss, var, create_graph=True, retain_graph=True)\n",
    "    for layer in grads:\n",
    "        for grad in layer:\n",
    "            for g in grad:\n",
    "                temp2 = []\n",
    "                for v in var:\n",
    "                    grad2 = torch.autograd.grad(g, v, create_graph=True, retain_graph=True)\n",
    "                    for grd in grad2:\n",
    "                        # make the \n",
    "                        grd.contiguous()\n",
    "                        grd = grd.data.view(-1)\n",
    "                        hessian = torch.cat((hessian, grd), 0)\n",
    "    size = int(np.sqrt(hessian.size()))\n",
    "    return np.array(hessian[1:].view(size, size))\n",
    "\n",
    "def get_W(model):\n",
    "    var = model.parameters()\n",
    "    W = torch.zeros(1)\n",
    "    for v in var:\n",
    "        W = torch.cat((W, v.data.view(-1)), 0)\n",
    "    return W[1:].numpy()"
   ]
  },
  {
   "cell_type": "markdown",
   "metadata": {},
   "source": [
    "#### little test"
   ]
  },
  {
   "cell_type": "code",
   "execution_count": 179,
   "metadata": {},
   "outputs": [
    {
     "data": {
      "text/plain": [
       "0.3333333333333333"
      ]
     },
     "execution_count": 179,
     "metadata": {},
     "output_type": "execute_result"
    }
   ],
   "source": [
    "minimal_ratio(np.diag([1,-1,-1]))"
   ]
  },
  {
   "cell_type": "code",
   "execution_count": 180,
   "metadata": {},
   "outputs": [
    {
     "data": {
      "text/plain": [
       "(609,)"
      ]
     },
     "execution_count": 180,
     "metadata": {},
     "output_type": "execute_result"
    }
   ],
   "source": [
    "get_W(net).shape"
   ]
  },
  {
   "cell_type": "markdown",
   "metadata": {},
   "source": [
    "# 1. Visualize the Optimization Process"
   ]
  },
  {
   "cell_type": "code",
   "execution_count": 181,
   "metadata": {},
   "outputs": [],
   "source": [
    "# manage models\n",
    "model_list = [Net() for i in range(NUM_MODEL) ]\n",
    "optim_list = [optim.Adam(params=m.parameters(), lr=LR) for m in model_list]\n",
    "Ws = []"
   ]
  },
  {
   "cell_type": "code",
   "execution_count": 150,
   "metadata": {
    "scrolled": true
   },
   "outputs": [
    {
     "name": "stdout",
     "output_type": "stream",
     "text": [
      "training model #1\n",
      "loss: 0.4016\n",
      "loss: 0.0002\n",
      "loss: 0.0000\n",
      "loss: 0.0000\n",
      "loss: 0.0000\n",
      "loss: 0.0000\n",
      "loss: 0.0002\n",
      "training model #2\n",
      "loss: 0.2062\n",
      "loss: 0.0001\n",
      "loss: 0.0007\n",
      "loss: 0.0000\n",
      "loss: 0.0000\n",
      "loss: 0.0002\n",
      "loss: 0.0000\n",
      "training model #3\n",
      "loss: 0.1639\n",
      "loss: 0.0010\n",
      "loss: 0.0001\n",
      "loss: 0.0000\n",
      "loss: 0.0000\n",
      "loss: 0.0000\n",
      "loss: 0.0000\n",
      "training model #4\n",
      "loss: 0.2157\n",
      "loss: 0.0014\n",
      "loss: 0.0013\n",
      "loss: 0.0013\n",
      "loss: 0.0013\n",
      "loss: 0.0001\n",
      "loss: 0.0000\n",
      "training model #5\n",
      "loss: 0.1424\n",
      "loss: 0.0027\n",
      "loss: 0.0026\n",
      "loss: 0.0043\n",
      "loss: 0.0013\n",
      "loss: 0.0013\n",
      "loss: 0.0015\n",
      "training model #6\n",
      "loss: 0.1468\n",
      "loss: 0.0013\n",
      "loss: 0.0013\n",
      "loss: 0.0014\n",
      "loss: 0.0013\n",
      "loss: 0.0001\n",
      "loss: 0.0000\n",
      "training model #7\n",
      "loss: 0.3068\n",
      "loss: 0.0020\n",
      "loss: 0.0000\n",
      "loss: 0.0000\n",
      "loss: 0.0000\n",
      "loss: 0.0000\n",
      "loss: 0.0000\n",
      "training model #8\n",
      "loss: 0.3251\n",
      "loss: 0.0026\n",
      "loss: 0.0029\n",
      "loss: 0.0026\n",
      "loss: 0.0025\n",
      "loss: 0.0001\n",
      "loss: 0.0001\n"
     ]
    }
   ],
   "source": [
    "for step, (model, optimizer) in enumerate(zip(model_list, optim_list)):\n",
    "    print(\"training model #%d\" % (step + 1))\n",
    "    for epoch in range(EPOCH):\n",
    "        pred = model(train_x)\n",
    "        optimizer.zero_grad()\n",
    "        loss = loss_func(pred, train_y)\n",
    "        loss.backward()\n",
    "        optimizer.step()\n",
    "        \n",
    "        if epoch % 1000 == 0:\n",
    "            print(\"loss: %.6f\" % loss.data[0])\n",
    "            W = get_W(model)\n",
    "            Ws.append(W)\n",
    "Ws = np.array(Ws)"
   ]
  },
  {
   "cell_type": "markdown",
   "metadata": {},
   "source": [
    "#### Dimension Reduction by PCA"
   ]
  },
  {
   "cell_type": "code",
   "execution_count": 162,
   "metadata": {},
   "outputs": [
    {
     "data": {
      "text/plain": [
       "(56, 2)"
      ]
     },
     "execution_count": 162,
     "metadata": {},
     "output_type": "execute_result"
    }
   ],
   "source": [
    "pca = PCA(n_components=2)\n",
    "pca.fit(Ws)\n",
    "Ws_2D = pca.transform(Ws)\n",
    "# make it easy for plotting\n",
    "Ws_2D = Ws_2D.T"
   ]
  },
  {
   "cell_type": "code",
   "execution_count": 167,
   "metadata": {},
   "outputs": [
    {
     "data": {
      "image/png": "[encoded data removed]",
      "text/plain": [
       "<Figure size 432x288 with 1 Axes>"
      ]
     },
     "metadata": {},
     "output_type": "display_data"
    }
   ],
   "source": [
    "for i in range(8):\n",
    "    for j in range(7):\n",
    "        plt.scatter(Ws_2D[i*7 + j][0], Ws_2D[i*7 + j][1], color='C%d' % i)\n",
    "        plt.text(Ws_2D[i*7 + j][0], Ws_2D[i*7 + j][1], \"%d\" % j)\n",
    "plt.show()"
   ]
  },
  {
   "cell_type": "markdown",
   "metadata": {},
   "source": [
    "# 2. Observe Gradient Norm During Training\n"
   ]
  },
  {
   "cell_type": "code",
   "execution_count": 182,
   "metadata": {},
   "outputs": [],
   "source": [
    "def normal_train(verbose=False):\n",
    "    net = Net()\n",
    "    optimizer = optim.Adam(params=net.parameters(), lr=LR)\n",
    "    grad_list = []\n",
    "    loss_list = []\n",
    "    for epoch in range(EPOCH):\n",
    "        pred = net(train_x)\n",
    "        loss = loss_func(pred, train_y)\n",
    "        optimizer.zero_grad()\n",
    "        loss.backward(retain_graph=True)\n",
    "        optimizer.step()\n",
    "\n",
    "        grad_list.append(calculate_grad(net))\n",
    "        loss_list.append(loss.data[0])\n",
    "\n",
    "        if verbose and epoch % 1000 == 0:\n",
    "            print('epoch: %4d | loss: %.6f | grad: %.6f' % (epoch, loss.data[0], calculate_grad(net)))\n",
    "            plt.figure()\n",
    "            plt.scatter(train_x, train_y, label=\"ground_truth\")\n",
    "            plt.scatter(train_x, pred.data, label=\"model\")\n",
    "            plt.title(\"model\")\n",
    "            plt.legend()\n",
    "            plt.show()\n",
    "    return net, grad_list, loss_list     "
   ]
  },
  {
   "cell_type": "code",
   "execution_count": 183,
   "metadata": {},
   "outputs": [
    {
     "name": "stdout",
     "output_type": "stream",
     "text": [
      "epoch:    0 | loss: 0.254829 | grad: 2.398980\n"
     ]
    },
    {
     "data": {
      "image/png": "[encoded data removed]",
      "text/plain": [
       "<Figure size 432x288 with 1 Axes>"
      ]
     },
     "metadata": {},
     "output_type": "display_data"
    },
    {
     "name": "stdout",
     "output_type": "stream",
     "text": [
      "epoch: 1000 | loss: 0.002593 | grad: 0.000001\n"
     ]
    },
    {
     "data": {
      "image/png": "[encoded data removed]",
      "text/plain": [
       "<Figure size 432x288 with 1 Axes>"
      ]
     },
     "metadata": {},
     "output_type": "display_data"
    },
    {
     "name": "stdout",
     "output_type": "stream",
     "text": [
      "epoch: 2000 | loss: 0.002592 | grad: 0.000000\n"
     ]
    },
    {
     "data": {
      "image/png": "[encoded data removed]",
      "text/plain": [
       "<Figure size 432x288 with 1 Axes>"
      ]
     },
     "metadata": {},
     "output_type": "display_data"
    },
    {
     "name": "stdout",
     "output_type": "stream",
     "text": [
      "epoch: 3000 | loss: 0.002592 | grad: 0.000001\n"
     ]
    },
    {
     "data": {
      "image/png": "[encoded data removed]",
      "text/plain": [
       "<Figure size 432x288 with 1 Axes>"
      ]
     },
     "metadata": {},
     "output_type": "display_data"
    },
    {
     "name": "stdout",
     "output_type": "stream",
     "text": [
      "epoch: 4000 | loss: 0.000132 | grad: 0.000003\n"
     ]
    },
    {
     "data": {
      "image/png": "[encoded data removed]",
      "text/plain": [
       "<Figure size 432x288 with 1 Axes>"
      ]
     },
     "metadata": {},
     "output_type": "display_data"
    },
    {
     "name": "stdout",
     "output_type": "stream",
     "text": [
      "epoch: 5000 | loss: 0.000056 | grad: 0.000000\n"
     ]
    },
    {
     "data": {
      "image/png": "[encoded data removed]",
      "text/plain": [
       "<Figure size 432x288 with 1 Axes>"
      ]
     },
     "metadata": {},
     "output_type": "display_data"
    },
    {
     "name": "stdout",
     "output_type": "stream",
     "text": [
      "epoch: 6000 | loss: 0.000050 | grad: 0.000000\n"
     ]
    },
    {
     "data": {
      "image/png": "[encoded data removed]",
      "text/plain": [
       "<Figure size 432x288 with 1 Axes>"
      ]
     },
     "metadata": {},
     "output_type": "display_data"
    }
   ],
   "source": [
    "net, grad_list, loss_list = normal_train(verbose=True)"
   ]
  },
  {
   "cell_type": "code",
   "execution_count": 186,
   "metadata": {},
   "outputs": [
    {
     "data": {
      "image/png": "[encoded data removed]",
      "text/plain": [
       "<Figure size 432x288 with 2 Axes>"
      ]
     },
     "metadata": {},
     "output_type": "display_data"
    }
   ],
   "source": [
    "fig, ax = plt.subplots(2, 1)\n",
    "ax[0].plot(np.arange(EPOCH), (np.array(grad_list)))\n",
    "ax[1].plot(np.arange(EPOCH), (np.array(loss_list)))\n",
    "ax[0].set_ylabel('grad')\n",
    "ax[1].set_ylabel('loss')\n",
    "plt.show()"
   ]
  },
  {
   "cell_type": "markdown",
   "metadata": {},
   "source": [
    "# 3. What Happened When Gradient is Almost Zero"
   ]
  },
  {
   "cell_type": "code",
   "execution_count": 192,
   "metadata": {},
   "outputs": [],
   "source": [
    "def grad_train(net, verbose=False):\n",
    "    # minimize grad (change the loss to grad_norm)\n",
    "    grad_list = []\n",
    "    loss_list = []\n",
    "    optimizer = optim.Adam(net.parameters(), lr=LR2)\n",
    "    for epoch in range(EPOCH2):\n",
    "        pred = net(train_x)\n",
    "        loss = loss_func(pred, train_y)\n",
    "        optimizer.zero_grad()\n",
    "\n",
    "        # instead of backward by loss, this time backward by grad_norm\n",
    "        grad_norm = calculate_grad2(net, loss)\n",
    "        grad_norm.backward(retain_graph=True)\n",
    "\n",
    "        optimizer.step()\n",
    "\n",
    "        grad_list.append(calculate_grad(net))\n",
    "        loss_list.append(loss.data[0])\n",
    "\n",
    "        if verbose and epoch % 100 == 0:\n",
    "            print('epoch: %4d | loss: %.6f | grad: %.6f' % (epoch, loss.data[0], calculate_grad(net)))\n",
    "            plt.figure()\n",
    "            plt.scatter(train_x, train_y, label=\"ground_truth\")\n",
    "            plt.scatter(train_x, pred.data, label=\"model\")\n",
    "            plt.title(\"model\")\n",
    "            plt.legend()\n",
    "            plt.show()\n",
    "    return net, loss, grad_list, loss_list"
   ]
  },
  {
   "cell_type": "code",
   "execution_count": 194,
   "metadata": {},
   "outputs": [
    {
     "name": "stdout",
     "output_type": "stream",
     "text": [
      "training... # 1 / 50\n",
      "training... # 2 / 50\n",
      "training... # 3 / 50\n",
      "training... # 4 / 50\n",
      "training... # 5 / 50\n",
      "training... # 6 / 50\n",
      "training... # 7 / 50\n",
      "training... # 8 / 50\n",
      "training... # 9 / 50\n",
      "training... #10 / 50\n",
      "training... #11 / 50\n",
      "training... #12 / 50\n",
      "training... #13 / 50\n",
      "training... #14 / 50\n",
      "training... #15 / 50\n",
      "training... #16 / 50\n",
      "training... #17 / 50\n",
      "training... #18 / 50\n",
      "training... #19 / 50\n",
      "training... #20 / 50\n",
      "training... #21 / 50\n",
      "training... #22 / 50\n",
      "training... #23 / 50\n",
      "training... #24 / 50\n",
      "training... #25 / 50\n",
      "training... #26 / 50\n",
      "training... #27 / 50\n",
      "training... #28 / 50\n",
      "training... #29 / 50\n",
      "training... #30 / 50\n",
      "training... #31 / 50\n",
      "training... #32 / 50\n",
      "training... #33 / 50\n",
      "training... #34 / 50\n",
      "training... #35 / 50\n",
      "training... #36 / 50\n",
      "training... #37 / 50\n",
      "training... #38 / 50\n",
      "training... #39 / 50\n",
      "training... #40 / 50\n",
      "training... #41 / 50\n",
      "training... #42 / 50\n",
      "training... #43 / 50\n",
      "training... #44 / 50\n",
      "training... #45 / 50\n",
      "training... #46 / 50\n",
      "training... #47 / 50\n",
      "training... #48 / 50\n",
      "training... #49 / 50\n",
      "training... #50 / 50\n"
     ]
    }
   ],
   "source": [
    "losses = []\n",
    "mini = []\n",
    "for i in range(NUM_MIN):\n",
    "    print(\"training... #%2d / %2d\" % (i+1, NUM_MIN))\n",
    "    net, _, _ = normal_train()\n",
    "    net, loss, grad_list2, loss_list2 = grad_train(net)\n",
    "    hessian = calculate_hessian3(loss, net)\n",
    "    min_ratio = minimal_ratio(hessian)\n",
    "    losses.append(loss.data[0])\n",
    "    mini.append(min_ratio)"
   ]
  },
  {
   "cell_type": "code",
   "execution_count": 198,
   "metadata": {},
   "outputs": [
    {
     "data": {
      "text/plain": [
       "(-0.001, 0.005)"
      ]
     },
     "execution_count": 198,
     "metadata": {},
     "output_type": "execute_result"
    },
    {
     "data": {
      "image/png": "[encoded data removed]",
      "text/plain": [
       "<Figure size 432x288 with 1 Axes>"
      ]
     },
     "metadata": {},
     "output_type": "display_data"
    }
   ],
   "source": [
    "plt.scatter(mini, losses)\n",
    "plt.xlabel('minimal ratio')\n",
    "plt.ylabel('loss')\n",
    "plt.ylim(-0.001, 0.005)"
   ]
  },
  {
   "cell_type": "markdown",
   "metadata": {},
   "source": [
    "#### (Note) the eigenvalues of hessian is full of zeros"
   ]
  },
  {
   "cell_type": "code",
   "execution_count": 199,
   "metadata": {},
   "outputs": [
    {
     "name": "stdout",
     "output_type": "stream",
     "text": [
      "(609, 609)\n",
      "0.3645320197044335\n"
     ]
    }
   ],
   "source": [
    "hessian = calculate_hessian3(loss, net)\n",
    "print(hessian.shape)\n",
    "min_ratio = minimal_ratio(hessian)\n",
    "print(min_ratio)"
   ]
  },
  {
   "cell_type": "code",
   "execution_count": 200,
   "metadata": {},
   "outputs": [
    {
     "name": "stdout",
     "output_type": "stream",
     "text": [
      "number of total eigenvalue:  609\n",
      "number of zero eigenvalue: 236\n",
      "zero ratio : 38.75%\n"
     ]
    }
   ],
   "source": [
    "w, _ = np.linalg.eig(hessian)\n",
    "print(\"number of total eigenvalue: \", w.size)\n",
    "print(\"number of zero eigenvalue:\", (w == 0).sum())\n",
    "print(\"zero ratio : %.2f%%\" % ((w == 0).sum()/w.size * 100))"
   ]
  },
  {
   "cell_type": "code",
   "execution_count": 201,
   "metadata": {},
   "outputs": [
    {
     "name": "stdout",
     "output_type": "stream",
     "text": [
      "elements in hessian:  370881\n",
      "zero in hessian:  279368\n",
      "zero ratio: 75.33%\n"
     ]
    }
   ],
   "source": [
    "print(\"elements in hessian: \", hessian.size)\n",
    "print(\"zero in hessian: \", (hessian == 0).sum())\n",
    "print(\"zero ratio: %.2f%%\" % ((hessian == 0).sum()/hessian.size * 100))"
   ]
  },
  {
   "cell_type": "code",
   "execution_count": 202,
   "metadata": {},
   "outputs": [
    {
     "data": {
      "image/png": "[encoded data removed]",
      "text/plain": [
       "<Figure size 432x288 with 2 Axes>"
      ]
     },
     "metadata": {},
     "output_type": "display_data"
    }
   ],
   "source": [
    "fig, ax = plt.subplots(2, 1)\n",
    "ax[0].plot(np.arange(EPOCH2), (np.array(grad_list2)))\n",
    "ax[1].plot(np.arange(EPOCH2), (np.array(loss_list2)))\n",
    "ax[0].set_ylabel('grad')\n",
    "ax[1].set_ylabel('loss')\n",
    "plt.show()"
   ]
  },
  {
   "cell_type": "markdown",
   "metadata": {},
   "source": [
    "## (Reference)To Calculate Higher Order Gradient\n",
    "https://github.com/pytorch/pytorch/releases/tag/v0.2.0\n",
    "```python\n",
    "import torch\n",
    "from torchvision.models import resnet18\n",
    "from torch.autograd import Variable\n",
    "\n",
    "model = resnet18().cuda()\n",
    "\n",
    "# dummy inputs for the example\n",
    "input = Variable(torch.randn(2,3,224,224).cuda(), requires_grad=True)\n",
    "target = Variable(torch.zeros(2).long().cuda())\n",
    "\n",
    "# as usual\n",
    "output = model(input)\n",
    "loss = torch.nn.functional.nll_loss(output, target)\n",
    "\n",
    "grad_params = torch.autograd.grad(loss, model.parameters(), create_graph=True)\n",
    "# torch.autograd.grad does not accumuate the gradients into the .grad attributes\n",
    "# It instead returns the gradients as Variable tuples.\n",
    "\n",
    "# now compute the 2-norm of the grad_params\n",
    "grad_norm = 0\n",
    "for grad in grad_params:\n",
    "    grad_norm += grad.pow(2).sum()\n",
    "grad_norm = grad_norm.sqrt()\n",
    "\n",
    "# take the gradients wrt grad_norm. backward() will accumulate\n",
    "# the gradients into the .grad attributes\n",
    "grad_norm.backward()\n",
    "\n",
    "# do an optimization step\n",
    "optimizer.step()\n",
    "```"
   ]
  },
  {
   "cell_type": "markdown",
   "metadata": {},
   "source": [
    "## (Reference) \n",
    "https://discuss.pytorch.org/t/calculating-hessian-vector-product/11240/3\n",
    "```python\n",
    "v = Variable(torch.Tensor([1, 1]))\n",
    "x = Variable(torch.Tensor([0.1, 0.1]), requires_grad=True)\n",
    "f = 3 * x[0] ** 2 + 4 * x[0] * x[1] + x[1] **2\n",
    "grad_f, = torch.autograd.grad(f, x, create_graph=True)\n",
    "z = grad_f @ v\n",
    "```\n",
    "\n",
    "https://discuss.pytorch.org/t/runtimeerror-input-is-not-contiguous/930/3\n",
    "\n",
    ":before view(-1), you should make a tensor contiguous (in memory)"
   ]
  },
  {
   "cell_type": "code",
   "execution_count": null,
   "metadata": {},
   "outputs": [],
   "source": [
    "##TEST SECTION##\n",
    "a = torch.FloatTensor([1])\n",
    "b = torch.FloatTensor([3])\n",
    "\n",
    "a, b = Variable(a, requires_grad=True), Variable(b, requires_grad=True)\n",
    "\n",
    "c = a + 3 * b**2\n",
    "c = c.sum()\n",
    "\n",
    "grad_b = torch.autograd.grad(c, b, create_graph=True)\n",
    "grad2_b = torch.autograd.grad(grad_b, b, create_graph=True)\n",
    "\n",
    "print(grad2_b)"
   ]
  }
 ],
 "metadata": {
  "kernelspec": {
   "display_name": "Python 3",
   "language": "python",
   "name": "python3"
  },
  "language_info": {
   "codemirror_mode": {
    "name": "ipython",
    "version": 3
   },
   "file_extension": ".py",
   "mimetype": "text/x-python",
   "name": "python",
   "nbconvert_exporter": "python",
   "pygments_lexer": "ipython3",
   "version": "3.6.3"
  }
 },
 "nbformat": 4,
 "nbformat_minor": 2
}
