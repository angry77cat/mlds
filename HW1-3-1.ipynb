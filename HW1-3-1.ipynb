{
 "cells": [
  {
   "cell_type": "code",
   "execution_count": 1,
   "metadata": {},
   "outputs": [],
   "source": [
    "import torch\n",
    "import torch.nn as nn\n",
    "import torch.optim as optim\n",
    "import torch.nn.functional as F\n",
    "from torch.autograd import Variable\n",
    "import torch.utils.data as data\n",
    "import torchvision"
   ]
  },
  {
   "cell_type": "code",
   "execution_count": 11,
   "metadata": {},
   "outputs": [],
   "source": [
    "import numpy as np\n",
    "import matplotlib.pyplot as plt\n",
    "import random"
   ]
  },
  {
   "cell_type": "markdown",
   "metadata": {},
   "source": [
    "#### Set Hyperparameters"
   ]
  },
  {
   "cell_type": "code",
   "execution_count": 153,
   "metadata": {},
   "outputs": [],
   "source": [
    "BATCH_SIZE = 32\n",
    "TRAIN_SIZE = 10000\n",
    "VALID_SIZE = 1000\n",
    "LR = 1e-4\n",
    "EPOCH = 3000"
   ]
  },
  {
   "cell_type": "code",
   "execution_count": 112,
   "metadata": {},
   "outputs": [],
   "source": [
    "dataset = torchvision.datasets.MNIST(root=\"data/mnist\",\n",
    "                                     train=True,\n",
    "                                     transform=torchvision.transforms.ToTensor(),\n",
    "                                     download=False)\n",
    "validset = torchvision.datasets.MNIST(root=\"data/mnist\",\n",
    "                                     train=False,)"
   ]
  },
  {
   "cell_type": "markdown",
   "metadata": {},
   "source": [
    "#### Some Helper Function"
   ]
  },
  {
   "cell_type": "code",
   "execution_count": 159,
   "metadata": {},
   "outputs": [],
   "source": [
    "def random_data(data, label, size, CNN=True):\n",
    "    train_data = data[:size]\n",
    "    if CNN:\n",
    "        train_data = train_data.unsqueeze(1) # make the channel\n",
    "    else:\n",
    "        train_data = train_data.view(-1, 28*28)\n",
    "    train_data = train_data.type(torch.FloatTensor)/255.\n",
    "    train_labels = label[:size]\n",
    "    random.shuffle(train_labels)\n",
    "    train_data = Variable(train_data)\n",
    "    train_labels = Variable(train_labels)\n",
    "    return train_data, train_labels\n",
    "\n",
    "def make_batch(data, batch_size):\n",
    "    batch_data = []\n",
    "    for i in range(data.shape[0]//batch_size):\n",
    "        if batch_size * (i+1) < data.shape[0]:\n",
    "            batch_data.append(data[batch_size * i:batch_size * (i+1)])\n",
    "        else:\n",
    "            batch_data.append(data[batch_size * i:])\n",
    "    return batch_data"
   ]
  },
  {
   "cell_type": "code",
   "execution_count": 160,
   "metadata": {},
   "outputs": [],
   "source": [
    "train_data, train_labels = random_data(dataset.train_data, dataset.train_labels, TRAIN_SIZE, CNN=False)\n",
    "valid_data, valid_labels = random_data(validset.test_data, validset.test_labels, VALID_SIZE, CNN=False)"
   ]
  },
  {
   "cell_type": "code",
   "execution_count": 120,
   "metadata": {},
   "outputs": [
    {
     "name": "stdout",
     "output_type": "stream",
     "text": [
      "[2, 0, 2, 8, 9]\n"
     ]
    },
    {
     "data": {
      "image/png": "[encoded data removed]",
      "text/plain": [
       "<Figure size 432x288 with 5 Axes>"
      ]
     },
     "metadata": {},
     "output_type": "display_data"
    }
   ],
   "source": [
    "# test\n",
    "num_sample = 5\n",
    "samples = random.sample(list(range(TRAIN_SIZE)), num_sample)\n",
    "print([train_labels[sample] for sample in samples])\n",
    "fig, axes = plt.subplots(1,num_sample)\n",
    "for sample, ax in zip(samples, axes):\n",
    "    ax.imshow(train_data.numpy()[sample][0])"
   ]
  },
  {
   "cell_type": "code",
   "execution_count": 161,
   "metadata": {},
   "outputs": [],
   "source": [
    "train_data = make_batch(train_data, BATCH_SIZE)\n",
    "train_labels = make_batch(train_labels, BATCH_SIZE)"
   ]
  },
  {
   "cell_type": "code",
   "execution_count": 162,
   "metadata": {},
   "outputs": [
    {
     "name": "stdout",
     "output_type": "stream",
     "text": [
      "input shape:  torch.Size([32, 784])\n",
      "label shape:  torch.Size([32])\n",
      "number of batchs: 312 312\n"
     ]
    }
   ],
   "source": [
    "# test\n",
    "print(\"input shape: \", train_data[0].shape)\n",
    "print(\"label shape: \", train_labels[0].shape)\n",
    "print(\"number of batchs:\", len(train_data), len(train_labels))"
   ]
  },
  {
   "cell_type": "code",
   "execution_count": 163,
   "metadata": {},
   "outputs": [],
   "source": [
    "class CNN(nn.Module):\n",
    "    def __init__(self):\n",
    "        super(Model, self).__init__()\n",
    "        self.conv1 = nn.Sequential(nn.Conv2d(1, 16, 5, 1, 2),\n",
    "                                   nn.ReLU(),\n",
    "                                   nn.MaxPool2d(2),\n",
    "                                   nn.BatchNorm2d(16))\n",
    "                                   # m * 16 * 14 * 14\n",
    "        self.conv2 = nn.Sequential(nn.Conv2d(16, 32, 5, 1, 2),\n",
    "                                   nn.ReLU(),\n",
    "                                   nn.MaxPool2d(2),\n",
    "                                   nn.BatchNorm2d(32))\n",
    "                                   # m * 32 * 7 * 7\n",
    "        self.fc1 = nn.Linear(32 * 7 * 7, 32)\n",
    "        self.fc2 = nn.Linear(32, 10)\n",
    "        \n",
    "    def forward(self, x):\n",
    "        x = self.conv1(x)\n",
    "        x = self.conv2(x)\n",
    "        x = x.view(x.size(0), -1)\n",
    "        x = self.fc1(x)\n",
    "        x = F.relu(x)\n",
    "        x = self.fc2(x)\n",
    "        return x\n",
    "\n",
    "class FC(nn.Module):\n",
    "    def __init__(self):\n",
    "        super(FC, self).__init__()\n",
    "        self.fc1 = nn.Linear(784, 32)\n",
    "        self.fc2 = nn.Linear(32, 64)\n",
    "        self.fc3 = nn.Linear(64, 64)\n",
    "        self.fc4 = nn.Linear(64, 10)\n",
    "    def forward(self, x):\n",
    "        x = self.fc1(x)\n",
    "        x = F.relu(x)\n",
    "        x = self.fc2(x)\n",
    "        x = F.relu(x)\n",
    "        x = self.fc3(x)\n",
    "        x = F.relu(x)\n",
    "        x = self.fc4(x)\n",
    "        return x"
   ]
  },
  {
   "cell_type": "code",
   "execution_count": 164,
   "metadata": {},
   "outputs": [],
   "source": [
    "model = FC()\n",
    "optimizer = optim.Adam(params=model.parameters(), lr=LR)\n",
    "loss_func = nn.CrossEntropyLoss()"
   ]
  },
  {
   "cell_type": "code",
   "execution_count": 165,
   "metadata": {},
   "outputs": [
    {
     "name": "stdout",
     "output_type": "stream",
     "text": [
      "epoch: 0 | loss: 2.3058\n",
      "epoch: 500 | loss: 0.8616\n",
      "epoch: 1000 | loss: 0.2630\n",
      "epoch: 1500 | loss: 0.1374\n",
      "epoch: 2000 | loss: 0.2795\n",
      "epoch: 2500 | loss: 1.1111\n"
     ]
    }
   ],
   "source": [
    "train_loss = []\n",
    "test_loss = []\n",
    "for epoch in range(EPOCH):\n",
    "    for step, (x, y) in enumerate(zip(train_data, train_labels)):\n",
    "        pred = model(x)\n",
    "        optimizer.zero_grad()\n",
    "        loss = loss_func(pred, y)\n",
    "        loss.backward()\n",
    "        optimizer.step()\n",
    "    if epoch % 500 == 0:\n",
    "        print(\"epoch: %d | loss: %.4f\" % (epoch, loss.data[0]))\n",
    "    \n",
    "    pred_ = model(valid_data)\n",
    "    loss_ = loss_func(pred_, valid_labels)\n",
    "    train_loss.append(loss.data[0])\n",
    "    test_loss.append(loss_.data[0])"
   ]
  },
  {
   "cell_type": "code",
   "execution_count": 167,
   "metadata": {},
   "outputs": [
    {
     "data": {
      "image/png": "[encoded data removed]",
      "text/plain": [
       "<Figure size 432x288 with 1 Axes>"
      ]
     },
     "metadata": {},
     "output_type": "display_data"
    }
   ],
   "source": [
    "plt.scatter(np.arange(EPOCH * 312), train_loss, label='train')\n",
    "plt.scatter(np.arange(EPOCH * 312), test_loss, label='test')\n",
    "plt.xlabel('epoch')\n",
    "plt.ylabel('loss')\n",
    "plt.legend()\n",
    "plt.show()"
   ]
  }
 ],
 "metadata": {
  "kernelspec": {
   "display_name": "Python 3",
   "language": "python",
   "name": "python3"
  },
  "language_info": {
   "codemirror_mode": {
    "name": "ipython",
    "version": 3
   },
   "file_extension": ".py",
   "mimetype": "text/x-python",
   "name": "python",
   "nbconvert_exporter": "python",
   "pygments_lexer": "ipython3",
   "version": "3.6.3"
  }
 },
 "nbformat": 4,
 "nbformat_minor": 2
}
